{
  "nbformat": 4,
  "nbformat_minor": 0,
  "metadata": {
    "colab": {
      "name": "03_PreProcessamentoDeTexto_NLTK.ipynb",
      "version": "0.3.2",
      "provenance": []
    },
    "kernelspec": {
      "display_name": "Python 3",
      "language": "python",
      "name": "python3"
    }
  },
  "cells": [
    {
      "metadata": {
        "id": "QIMfo3v1VL8h",
        "colab_type": "code",
        "colab": {}
      },
      "cell_type": "code",
      "source": [
        "import nltk\n",
        "nltk.download()"
      ],
      "execution_count": 0,
      "outputs": []
    },
    {
      "metadata": {
        "id": "-i37VqefVIHm",
        "colab_type": "text"
      },
      "cell_type": "markdown",
      "source": [
        "# O que o twitter está pensando?\n",
        "\n",
        "# Extraindo informações em redes sociais utilizando Python\n",
        "\n",
        "`> por: `[@profadolfoguimaraes](http://www.twitter.com/profadolfoguimaraes)\n",
        "\n",
        "Estes tutoriais apresentam os principais scritps desenvolvidos no minicurso: **O que o twitter está pensando? Extraindo informações em redes sociais utilizando Python**. O conteúdo está dividio em dois repositórios: (1) [d2l-minicursotwitter-notebook](http://github.com/adolfoguimaraes/d2l-minicursotwitter-notebook) que possui estes notebooks e (2) [d2l-minicursotwitter-web](http://github.com/adolfoguimaraes/d2l-minicursotwitter-web) que possui a página web desenvolvida.\n",
        "\n",
        "O material completo do minicurso pode ser encontrado em: http://www.data2learning.com/cursos.\n",
        "\n",
        "## 03 - Pré-processamento de texto utilizando NLTK\n",
        "\n",
        "Nesta etapa vamos aprender algumas técnicas para tratar os textos que foram coletados do twitter. Incialmente vamos trabalhar com a parte de tokenização, remoção de palavras que não serão úteis, aplicação de métodos de *steamming* e retirada automática de links, hashtags do texto e outras informações relevantes que vão ser detalhadas mais a frente.\n",
        "\n",
        "O NLTK (http://www.nltk.org) não é uma ferramenta de pré-processamento, ele é um kit completo para tratar problemas relacionados ao processamento de Linguagem Natural. No entanto, ele possui alguns métodos para nos ajudar nestas tarefas iniciais. Citanto o site oficial: *NLTK is a leading platform for building Python programs to work with human language data. It provides easy-to-use interfaces to over 50 corpora and lexical resources such as WordNet, along with a suite of text processing libraries for classification, tokenization, stemming, tagging, parsing, and semantic reasoning, wrappers for industrial-strength NLP libraries, and an active discussion forum.*\n",
        "\n",
        "O material desenvolvido aqui é baseado, principalmente, no livro **Python 3 Text Processing with NLTK 3 Cookbook**: https://www.amazon.com.br/dp/B00N2RWMJU/.\n",
        "\n",
        "Vamos começar :) "
      ]
    },
    {
      "metadata": {
        "id": "T0RpmWpqVIHx",
        "colab_type": "text"
      },
      "cell_type": "markdown",
      "source": [
        "### Instalação do NLTK\n",
        "\n",
        "Para instalar utilize o comando **pip install nltk** na linha de comando. Se já instalou a partir do arquivo `requirements.txt` não precisa executar esse comando. \n",
        "\n",
        "Esse comando garante a instalação básica da ferramenta. No entanto, o NLTK é composto por uma série de bases, corporas e modelos que podem ser baixados a medida que forem sendo utilizandos. Detalhes de como instalar os dados podem ser encontrados em: http://nltk.org/data.html. A medida que a gente for precisando destes dados, iremos instalar."
      ]
    },
    {
      "metadata": {
        "id": "L2JUkoPOVIH1",
        "colab_type": "text"
      },
      "cell_type": "markdown",
      "source": [
        "### Tokenização\n",
        "\n",
        "A primeira etapa do pré-processamento do texto coletado é separá-lo em *tokens*. Tokenizar consiste em quebrar um texto em pedaços, sejam palavras ou sentenças. Para utilizar os métodos desta etapa será necessário instalar alguns itens adicionais do NLTK.\n",
        "\n",
        "Para isso, digite na linha de comando:\n",
        "\n",
        "\n",
        "$ python\n",
        "\n",
        "\n",
        "No shell do Python digite os comandos a seguir:\n",
        "\n",
        "```python\n",
        ">>> import ntlk\n",
        ">>> nltk.download()\n",
        "NLTK Downloader                                                                                                                                       \n",
        "---------------------------------------------------------------------------                                                                           \n",
        "    d) Download   l) List    u) Update   c) Config   h) Help   q) Quit                                                                                \n",
        "---------------------------------------------------------------------------                                                                           \n",
        "Downloader> \n",
        "```\n",
        "\n",
        "Nessa tela, se digitar **l** será listado todos os pacotes que podem ser instalados. Para o nosso propósito de tokenização vamos instalar o pacote **punkt** que possui os modelos necessários para que a gente faça os diversos tipos de tokenização.\n",
        "\n",
        "```python\n",
        "Downloader> d punkt                                                                                                                                   \n",
        "    Downloading package punkt to /home/d2l/nltk_data...                                                               \n",
        "        Unzipping tokenizers/punkt.zip. \n",
        "```"
      ]
    },
    {
      "metadata": {
        "id": "U-56IpSMVIH3",
        "colab_type": "text"
      },
      "cell_type": "markdown",
      "source": [
        "O processo de instalação de itens adicionais do NLKT pode ser feito diretamente aqui no Jupyter notebook digitando o seguinte código na célula: \n",
        "    \n",
        "```python\n",
        "import nltk\n",
        "nltk.download()\n",
        "```\n",
        "\n",
        "Vai aparecer uma caixa onde deve ser digitado o que deve ser baixado como mostrado no exemplo anterior. "
      ]
    },
    {
      "metadata": {
        "id": "NS7a48fcVIH5",
        "colab_type": "text"
      },
      "cell_type": "markdown",
      "source": [
        "O código a seguir utiliza um modelo simples de tokenização baseado nas palavras. Observe que ele considera as potuações como uma palavra."
      ]
    },
    {
      "metadata": {
        "id": "oLYZsnO0VIH8",
        "colab_type": "code",
        "colab": {}
      },
      "cell_type": "code",
      "source": [
        "from nltk.tokenize import word_tokenize\n",
        "words = word_tokenize(\"O que o twitter esta pensando.\")\n",
        "print(words)"
      ],
      "execution_count": 0,
      "outputs": []
    },
    {
      "metadata": {
        "id": "EpgP35FgVII5",
        "colab_type": "text"
      },
      "cell_type": "markdown",
      "source": [
        "Vamos utilizar o mesmo método em outra frase. "
      ]
    },
    {
      "metadata": {
        "id": "SoFpPkLdVII6",
        "colab_type": "code",
        "colab": {}
      },
      "cell_type": "code",
      "source": [
        "words = word_tokenize(\"Para mais informações sobre o minicurso, acesse: http://www.data2learning.com/cursos\")\n",
        "print(words)"
      ],
      "execution_count": 0,
      "outputs": []
    },
    {
      "metadata": {
        "id": "tqeOYeZ9VIJA",
        "colab_type": "text"
      },
      "cell_type": "markdown",
      "source": [
        "Ou ainda:"
      ]
    },
    {
      "metadata": {
        "id": "QI6zxurdVIJC",
        "colab_type": "code",
        "colab": {}
      },
      "cell_type": "code",
      "source": [
        "words = word_tokenize(\"Siga meu perfil @profadolfoguimaraes no instagram para ;) #minicursotwitterludiico\")\n",
        "print(words)"
      ],
      "execution_count": 0,
      "outputs": []
    },
    {
      "metadata": {
        "id": "u9bmpr0oVIJI",
        "colab_type": "text"
      },
      "cell_type": "markdown",
      "source": [
        "O NLTK possui uma série de métodos de tokenização: *PunktWordTokenizer*, *RegexpTokenizer*, *TreebankWordTokenizer* e *TweetTokenizer* Cada um destes métodos utilizam abordagens diferentes para separar os tokens. Devemos escolher o método mais adequado a depender do objtivo que queremos alcançar. A lista completa de métodos de tokenização, pode ser encontrada na documentação do NLTK: http://www.nltk.org/api/nltk.tokenize.html.\n",
        "\n",
        "No nosso caso, observe que objetivo foi em parte atingido. Algumas partes da tokenização não foram bem sucedidas. Termos como links, hashtags e nomes de usuários não deviam ser separados dos 'http', '@' ou '#' correspondentes. "
      ]
    },
    {
      "metadata": {
        "id": "N9HgsdCIVIJJ",
        "colab_type": "text"
      },
      "cell_type": "markdown",
      "source": [
        "O NLTK possui um tokenizador próprio para tweets: `TweetTokenizer`. Veja no exemplo a seguir que ele agrupa como uma única palavra nomes de usuários, hashtags, links e *emotions*. Esse resultado é muito mais próximo do que queremos aqui. "
      ]
    },
    {
      "metadata": {
        "id": "onwEfDCwVIJL",
        "colab_type": "code",
        "colab": {}
      },
      "cell_type": "code",
      "source": [
        "from nltk.tokenize import TweetTokenizer\n",
        "\n",
        "tweettk = TweetTokenizer()\n",
        "words = tweettk.tokenize(\"Siga meu perfil @profadolfoguimaraes no instagram para ;) #minicursotwitterludiico \\\n",
        "                         http://www.instagram.com/profadolfoguimaraes.\")\n",
        "print(words)"
      ],
      "execution_count": 0,
      "outputs": []
    },
    {
      "metadata": {
        "id": "olhLmQlVVIJU",
        "colab_type": "text"
      },
      "cell_type": "markdown",
      "source": [
        "Uma forma mais genérica de resolvermos esse problema, é utilizando uma tokenização baseada em expressão regular. Para este tipo, escrevemos uma expressão regular que permita reconhecer os padrões que queremos separar. \n",
        "\n",
        "O NLTK possui o *RegexpTokenizer* para fazer tal tarefa. Esse método faz o que a função básica do python *re.findall()* do pacote *re* faz. No entanto, alguns métodos do NLTK exigem que seja definido um expressão regular para reconhecer determinados padrões de texto. Ter uma forma própria de implementar as expressões regulares facilita na definição destes métodos."
      ]
    },
    {
      "metadata": {
        "id": "Xk1Qpk72VIJV",
        "colab_type": "text"
      },
      "cell_type": "markdown",
      "source": [
        "O código a seguir quebra uma frase a partir da expressão regular **[\\w]+**. A expressão diz que o padrão reconhecido deve ser formado por uma ou mais letras. "
      ]
    },
    {
      "metadata": {
        "id": "WkVBLBrnVIJY",
        "colab_type": "code",
        "colab": {}
      },
      "cell_type": "code",
      "source": [
        "from nltk.tokenize import regexp_tokenize\n",
        "\n",
        "expression = \"[\\w]+\"\n",
        "text = \"O que o twitter esta pensando.\"\n",
        "patterns = regexp_tokenize(text, expression)\n",
        "\n",
        "print(patterns)"
      ],
      "execution_count": 0,
      "outputs": []
    },
    {
      "metadata": {
        "id": "FbKJWHhTVIJc",
        "colab_type": "text"
      },
      "cell_type": "markdown",
      "source": [
        "Veja que o ponto não foi selecionado nesse tipo de tokenização já que ele não casa com o padrão desejado. Se utilizarmos esse mesmo padrão nos textos que possuem links, hashtags ou nome de usuários ainda não vamos obter o desejado."
      ]
    },
    {
      "metadata": {
        "id": "ZUi_O-hHVIJd",
        "colab_type": "code",
        "colab": {}
      },
      "cell_type": "code",
      "source": [
        "text = \"Siga meu perfil @profadolfoguimaraes no instagram para ;) #minicursotwitterludiico \\\n",
        "                         http://www.instagram.com/profadolfoguimaraes\"\n",
        "patterns = regexp_tokenize(text, expression)\n",
        "\n",
        "print(patterns)"
      ],
      "execution_count": 0,
      "outputs": []
    },
    {
      "metadata": {
        "id": "bJtfbV4JVIJl",
        "colab_type": "text"
      },
      "cell_type": "markdown",
      "source": [
        "Podemos elaborar um padrão mais completo. Cada \"casamento\" do padrão será reconhecido como um token. "
      ]
    },
    {
      "metadata": {
        "id": "FL57fpf7VIJn",
        "colab_type": "code",
        "colab": {}
      },
      "cell_type": "code",
      "source": [
        "#Mudando o padrão\n",
        "\n",
        "pattern = r'(https://[^\"\\' ]+|www.[^\"\\' ]+|http://[^\"\\' ]+|\\w+|\\@\\w+|\\#\\w+)'\n",
        "\n",
        "patterns = regexp_tokenize(text, pattern)\n",
        "\n",
        "print(patterns)"
      ],
      "execution_count": 0,
      "outputs": []
    },
    {
      "metadata": {
        "id": "qRVeEPHpVIJs",
        "colab_type": "text"
      },
      "cell_type": "markdown",
      "source": [
        "A documentação para formar expressões regulares pode ser encontrada na biblioteca **re** do Python: \n",
        "\n",
        "* https://docs.python.org/2/library/re.html (Python 2.7+)\n",
        "* https://docs.python.org/3/library/re.html (Python 3+)"
      ]
    },
    {
      "metadata": {
        "id": "VgaTL-48VIJu",
        "colab_type": "text"
      },
      "cell_type": "markdown",
      "source": [
        "### Stopwords\n",
        "\n",
        "Uma outra etapa de pré-processamento é a de eliminação das stopwords. **Stopwords** são palavras comuns que de forma geral não contribuem para o entendimento da senteça. Vale reforçar que isso vai depender do propósito da sua aplicação. Para o nosso caso, podemos eliminar sem problemas.\n",
        "\n",
        "O NLTK vem com uma lista de stopwords para diversas linguagens. Para poder utilizar esse pacote devemos instalar também utilizando **nltk.download()** exemplificado anteriormente.\n",
        "\n",
        "```python\n",
        ">>> import nltk                                                                                                                                       \n",
        ">>> nltk.download()                                                                                                                                   \n",
        "NLTK Downloader                                                                                                                                       \n",
        "---------------------------------------------------------------------------                                                                           \n",
        "    d) Download   l) List    u) Update   c) Config   h) Help   q) Quit                                                                                \n",
        "---------------------------------------------------------------------------                                                                           \n",
        "Downloader> d stopwords                                                                                                                               \n",
        "    Downloading package stopwords to /home/d2l/nltk_data...                                                                                           \n",
        "      Unzipping corpora/stopwords.zip.    \n",
        "```"
      ]
    },
    {
      "metadata": {
        "id": "11NzXIW9VIJv",
        "colab_type": "text"
      },
      "cell_type": "markdown",
      "source": [
        "Vamos visualizar algumas listas de palavras. Linguagens disponíveis:"
      ]
    },
    {
      "metadata": {
        "id": "T47UZlqzVIJx",
        "colab_type": "code",
        "colab": {}
      },
      "cell_type": "code",
      "source": [
        "from nltk.corpus import stopwords\n",
        "\n",
        "print(stopwords.fileids())"
      ],
      "execution_count": 0,
      "outputs": []
    },
    {
      "metadata": {
        "id": "mRlNzO6UVIJz",
        "colab_type": "text"
      },
      "cell_type": "markdown",
      "source": [
        "Vamos exibir algumas palavras (para simplificar, iremos exibir apenas 10 de cada conjunto):"
      ]
    },
    {
      "metadata": {
        "id": "0cuNXFwfVIJ0",
        "colab_type": "code",
        "colab": {}
      },
      "cell_type": "code",
      "source": [
        "english_stops = stopwords.words(['english'])\n",
        "portuguese_stops = stopwords.words(['portuguese'])\n",
        "spanish_stops = stopwords.words(['spanish'])\n",
        "print(english_stops[:10])\n",
        "print(portuguese_stops[:10])\n",
        "print(spanish_stops[:10])"
      ],
      "execution_count": 0,
      "outputs": []
    },
    {
      "metadata": {
        "id": "TjXuJIT8VIJ4",
        "colab_type": "text"
      },
      "cell_type": "markdown",
      "source": [
        "Com isso podemos eliminar as stopwords do nosso texto:"
      ]
    },
    {
      "metadata": {
        "id": "a-_r54V6VIJ4",
        "colab_type": "code",
        "colab": {}
      },
      "cell_type": "code",
      "source": [
        "text = \"Siga meu perfil @profadolfoguimaraes no instagram para ;) #minicursotwitterludiico \\\n",
        "                         http://www.instagram.com/profadolfoguimaraes\"\n",
        "\n",
        "patterns = regexp_tokenize(text, pattern)\n",
        "\n",
        "print(patterns)\n",
        "\n",
        "words = [word for word in patterns if word not in portuguese_stops]\n",
        "\n",
        "print(words)"
      ],
      "execution_count": 0,
      "outputs": []
    },
    {
      "metadata": {
        "id": "z4q_pEjFVIJ8",
        "colab_type": "text"
      },
      "cell_type": "markdown",
      "source": [
        "### Fazendo correções\n",
        "\n",
        "Um problema muito comum quando trabalhamos com textos de redes sociais são os frequntes problemas com a escrita das palavras. Dentre vários problemas que podemos identificar, um que acontece com certa frequência é a inclusão de caracteres repetidos em uma palavra para enfatizar alguma coisa. Por exemplo, \"gostei muuuuiiitoooo desse filme\". O computador não sabe diferenciar \"muito\" de \"muuuuiiitoooo\". Para o processamento de texto seria importante que a gente corrigisse tais casos. A classe a seguir usa a biblioteca **re** do python para elimiar esse tipo de erro. \n",
        "\n",
        "Mais uma vez vale ressaltar que tais correções depende da aplicação. "
      ]
    },
    {
      "metadata": {
        "id": "F3VBnMXPVIJ_",
        "colab_type": "code",
        "colab": {}
      },
      "cell_type": "code",
      "source": [
        "import re\n",
        "\n",
        "class RepeatReplacer(object):\n",
        "    \n",
        "    def __init__(self):\n",
        "        self.repeat_regexp = re.compile(r'(\\w*)(\\w)\\2(\\w*)')\n",
        "        self.repl = r'\\1\\2\\3'\n",
        "        \n",
        "    def replace(self, word):\n",
        "        repl_word = self.repeat_regexp.sub(self.repl, word)\n",
        "\n",
        "        if repl_word != word:\n",
        "            return self.replace(repl_word)\n",
        "        else:\n",
        "            return repl_word"
      ],
      "execution_count": 0,
      "outputs": []
    },
    {
      "metadata": {
        "id": "yeiDXONFVIKI",
        "colab_type": "text"
      },
      "cell_type": "markdown",
      "source": [
        "Vamos utilizar a classe definida para corrigir algumas palavras:"
      ]
    },
    {
      "metadata": {
        "id": "t28UbrJEVIKK",
        "colab_type": "code",
        "colab": {}
      },
      "cell_type": "code",
      "source": [
        "replacer = RepeatReplacer()\n",
        "\n",
        "word = replacer.replace('muuuuiiitoooo')\n",
        "\n",
        "print(word)\n",
        "\n",
        "word = replacer.replace('voceeeee')\n",
        "\n",
        "print(word)"
      ],
      "execution_count": 0,
      "outputs": []
    },
    {
      "metadata": {
        "id": "Fwkxmi97VIKU",
        "colab_type": "text"
      },
      "cell_type": "markdown",
      "source": [
        "#### **AVISO:** Um outro tipo de correção é fazer a correção ortográfica. Inicialmente, havia utilizado a biblioteca **pyenchant**, mas ela foi descontinuada pelos seus desenvolvedores. Resolvi retirar desse material. Caso encontre outras alternativas irei atualiza-lo com essa parte. "
      ]
    },
    {
      "metadata": {
        "id": "9aDOaSejVIKW",
        "colab_type": "text"
      },
      "cell_type": "markdown",
      "source": [
        "### Termos mais frequentes\n",
        "\n",
        "Todos os processos feitos até aqui tem como finalidade ajustar as palavras para que a gente possa extrair de forma correta os termos mais frequentes. Selecionar os termos frequentes permite ter uma visão dos principais termos que estão presentes em um texto. O NLTK possui um método que retorna a frequencia de cada palavrada, dado um conjunto de palavras.\n",
        "\n",
        "As tarefas feitas anteriomente faz com que **voce** e **voceeeee** sejam tratadas como a mesma palavra. O que de fato é (para o escopo que estamos trabalhando). A mesma coisa acontece para palavras escritas de forma errada.\n",
        "\n",
        "Uma outra coisa que é importante fazer antes de determinar a frequencia das palavras é a retirada de acentos e normalizar todas as palavras com letra minúscula. \n",
        "\n",
        "O código a seguir faz estas tarefas e calcula a frequência dos termos."
      ]
    },
    {
      "metadata": {
        "id": "wM5xbGBzVIKZ",
        "colab_type": "code",
        "colab": {}
      },
      "cell_type": "code",
      "source": [
        "# Importar pacote para normalizar o text\n",
        "import nltk\n",
        "from unicodedata import normalize\n",
        "\n",
        "# Textos a serem tratados\n",
        "text1 = \"Siga meu perfil @profadolfoguimaraes no instagram para ;) #minicursotwitterludiico \\\n",
        "                         http://www.instagram.com/profadolfoguimaraes\"\n",
        "text2 = \"Quero participar de todos os minicursos. Como faz? #ludiico\"\n",
        "text3 = \"Em breve, mais iniciativas do grupo de pesquisa #ludiico. Siga meu perfil que irei divulga-las.\"\n",
        "\n",
        "# Concatenação dos textos\n",
        "text = text1 + \"\\n\" + text2 + \"\\n\" + text3\n",
        "\n",
        "# Retirada dos acentos\n",
        "text = normalize('NFKD', text)\n",
        "\n",
        "# Colaca todas as palavras em minúscula\n",
        "text = text.lower()\n",
        "\n",
        "# Processo de tokenização\n",
        "patterns = regexp_tokenize(text, pattern)\n",
        "\n",
        "# Cálculo dos termos mais frequentes\n",
        "frequence_terms = nltk.FreqDist(patterns)\n",
        "    \n",
        "#Podemos ordenar os termos de acordo com a frequência    \n",
        "print(frequence_terms.most_common())"
      ],
      "execution_count": 0,
      "outputs": []
    },
    {
      "metadata": {
        "id": "WKqcgbVrVIKd",
        "colab_type": "text"
      },
      "cell_type": "markdown",
      "source": [
        "### n-grams\n",
        "\n",
        "Quando trabalhamos com texto algumas palavras tendem a aparecer juntas. Por exemplo, *United States*, *Barak Obama*, *Hermes Fontes*, *Augusto Franco* e assim por diante. Identificar esses termos é importante dentro do processamento de linguagem natural. Por exemplo, *Hermes Fontes* é um nome de avenida. Desta forma, estas palavras quando aparecem juntas trazem muito mais informação do que as palavras soltas: hermes, fontes. O nome geral para isto é *n-gram*, onde *n* é o número de palavras que vão aparecer juntas. Os mais utilizados são n = 2 ou n = 3. Estes casos recebem o nome de `bigram` e `trigram`, respectivamente.\n",
        "\n",
        "Vamos trabalhar com as frases vistas anteriomente."
      ]
    },
    {
      "metadata": {
        "id": "Nm87fedwVIKf",
        "colab_type": "code",
        "colab": {}
      },
      "cell_type": "code",
      "source": [
        "from nltk.collocations import BigramCollocationFinder\n",
        "from nltk.metrics import BigramAssocMeasures\n",
        "\n",
        "bcf = BigramCollocationFinder.from_words(patterns)\n",
        "\n",
        "result = bcf.nbest(BigramAssocMeasures.likelihood_ratio, 4)\n",
        "\n",
        "print(result)"
      ],
      "execution_count": 0,
      "outputs": []
    },
    {
      "metadata": {
        "id": "dHK3Qof4VIKj",
        "colab_type": "text"
      },
      "cell_type": "markdown",
      "source": [
        "Da mesma forma podemos implementar para o trigram."
      ]
    },
    {
      "metadata": {
        "id": "ieLBp4rAVIKl",
        "colab_type": "code",
        "colab": {}
      },
      "cell_type": "code",
      "source": [
        "from nltk.collocations import TrigramCollocationFinder\n",
        "from nltk.metrics import TrigramAssocMeasures\n",
        "\n",
        "bcf = TrigramCollocationFinder.from_words(patterns)\n",
        "\n",
        "result = bcf.nbest(TrigramAssocMeasures.likelihood_ratio, 5)\n",
        "\n",
        "print(result)"
      ],
      "execution_count": 0,
      "outputs": []
    },
    {
      "metadata": {
        "id": "-AFD30j1VIKp",
        "colab_type": "text"
      },
      "cell_type": "markdown",
      "source": [
        "A importância em selecionar estes padrões pode ser enxergado melhor com uma base muito maior de dados."
      ]
    },
    {
      "metadata": {
        "id": "gW2M2dyuVIKr",
        "colab_type": "text"
      },
      "cell_type": "markdown",
      "source": [
        "Com isso encerramos nossa etapa de pré-processamento. Existe muito mais coisas que podem ser feitas como *steamming*, *identificação de sinônimos*, entre outros. Um guia completo destas tarefas podem ser encontradas no livo do NLTK."
      ]
    }
  ]
}