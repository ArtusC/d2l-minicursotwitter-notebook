{
 "cells": [
  {
   "cell_type": "markdown",
   "metadata": {},
   "source": [
    "# O que o twitter está pensando?\n",
    "\n",
    "# Extraindo informações em redes sociais utilizando Python\n",
    "\n",
    "`> por: `[@profadolfoguimaraes](http://www.twitter.com/profadolfoguimaraes)\n",
    "\n",
    "Estes tutoriais apresentam os principais scritps desenvolvidos no minicurso: **O que o twitter está pensando? Extraindo informações em redes sociais utilizando Python**. O conteúdo está dividio em dois repositórios: (1) [d2l-minicursotwitter-notebook](http://github.com/adolfoguimaraes/d2l-minicursotwitter-notebook) que possui estes notebooks e (2) [d2l-minicursotwitter-web](http://github.com/adolfoguimaraes/d2l-minicursotwitter-web) que possui a página web desenvolvida.\n",
    "\n",
    "O material completo do minicurso pode ser encontrado em: http://www.data2learning.com/cursos.\n",
    "\n",
    "## 01 - Coletando Dados do Twitter (Parte 1)\n",
    "\n",
    "Na primeira parte do nosso curso vamos mostrar como utilizar uma API do twitter para coletar dados publicados na rede social. Para poder utilizar a API é necessário criar uma aplicação no site http://dev.twitter.com/apps. Após a criação da APP deve-se criar também um `Access Token` na mesma página. Detalhes de como fazer isso estão disponíveis nos slides na página do curso linkada anteriormente. \n",
    "\n",
    "Para coletar as informações do twitter, vamos utilizar a API em python **Twython** (https://twython.readthedocs.io/en/latest/). Antes de começar devemos instala utilizando o comando **pip install twython** no console. Se você já instalou a partir do arquivo `requirements.txt` não é mais necessário instalar. \n",
    "\n",
    "Com todos estes passos concluídos podemos executar a primeira parte deste minicurso."
   ]
  },
  {
   "cell_type": "markdown",
   "metadata": {},
   "source": [
    "O primiero passo é importar as bibliotecas necessárias. No nosso caso, iremos importar a biblioteca do Twython e uma biblioteca para trabalhar com data e hora."
   ]
  },
  {
   "cell_type": "code",
   "execution_count": 1,
   "metadata": {},
   "outputs": [],
   "source": [
    "from twython import Twython\n",
    "from datetime import datetime"
   ]
  },
  {
   "cell_type": "markdown",
   "metadata": {},
   "source": [
    "Em seguida devemos informar as chaves necessárias da API do twitter. Estas chaves foram geradas no momento da criação da app no site listado anteriormente. Substitua o `None` com as chaves geradas na sua conta."
   ]
  },
  {
   "cell_type": "code",
   "execution_count": 14,
   "metadata": {
    "collapsed": true
   },
   "outputs": [],
   "source": [
    "#Definição das chaves da API do Twitter\n",
    "consumer_key = None # Get Keys and Access Token at apps.twitter.com\n",
    "consumer_secret = None # Get Keys and Access Token at apps.twitter.com\n",
    "access_token = None # Get Keys and Access Token at apps.twitter.com\n",
    "access_token_secret = None # Get Keys and Access Token at apps.twitter.com"
   ]
  },
  {
   "cell_type": "markdown",
   "metadata": {},
   "source": [
    "Em seguida, vamos criar uma instância da api Twython para que possamos utilizar os métodos de busca."
   ]
  },
  {
   "cell_type": "code",
   "execution_count": 3,
   "metadata": {
    "collapsed": true
   },
   "outputs": [],
   "source": [
    "tw = Twython(consumer_key, consumer_secret, access_token, access_token_secret)"
   ]
  },
  {
   "cell_type": "markdown",
   "metadata": {},
   "source": [
    "O primeiro método que iremos utilizar para coletar as informações é o `search`. Ele permite coletar uma quantidade específica de tweets a partir de uma query de busca. Essa query pode ser uma #hashtag ou uma palavra qualquer.\n",
    "\n",
    "Detalhes sobre os parâmetros e os valores de retorno do método `search` podem ser encontrados na página da API do twitter: https://dev.twitter.com/rest/reference/get/search/tweets. Nesse exemplo inicial vamos utilizar apenas três parâmetros: \n",
    "\n",
    "* **q:** query de busca\n",
    "* **count:** o número de tweets que serão retornados\n",
    "* **lang:** o idioma dos tweets retornados\n",
    "\n",
    "`Para facilitar a visualização foi coletado apenas 1 twitter. Modifique o valor para coletar mais`"
   ]
  },
  {
   "cell_type": "code",
   "execution_count": 4,
   "metadata": {
    "collapsed": true
   },
   "outputs": [],
   "source": [
    "result = tw.search(q=\"brasil\",count=1,lang=\"pt\")"
   ]
  },
  {
   "cell_type": "code",
   "execution_count": 5,
   "metadata": {},
   "outputs": [
    {
     "name": "stdout",
     "output_type": "stream",
     "text": [
      "{'statuses': [{'created_at': 'Thu May 03 14:40:23 +0000 2018', 'id': 992051246327586817, 'id_str': '992051246327586817', 'text': 'RT @joelbrasileiro: DIVULGAÇÃO PESADA PORRA VEM CNCO DOMINAR O BRASIL', 'truncated': False, 'entities': {'hashtags': [], 'symbols': [], 'user_mentions': [{'screen_name': 'joelbrasileiro', 'name': '˗ˏˋ apollo 🇧🇷 ˎˊ˗', 'id': 734258844755496960, 'id_str': '734258844755496960', 'indices': [3, 18]}], 'urls': []}, 'metadata': {'iso_language_code': 'pt', 'result_type': 'recent'}, 'source': '<a href=\"http://twitter.com/download/android\" rel=\"nofollow\">Twitter for Android</a>', 'in_reply_to_status_id': None, 'in_reply_to_status_id_str': None, 'in_reply_to_user_id': None, 'in_reply_to_user_id_str': None, 'in_reply_to_screen_name': None, 'user': {'id': 991314408776364032, 'id_str': '991314408776364032', 'name': 'Biih Luanete❤', 'screen_name': 'LuaneteBiih', 'location': 'Jaraguá, São Paulo', 'description': 'Eu rezo todos os dias,pedindo para Deus cuidado de ti.❤🙏 @LuanSantana', 'url': None, 'entities': {'description': {'urls': []}}, 'protected': False, 'followers_count': 11, 'friends_count': 58, 'listed_count': 0, 'created_at': 'Tue May 01 13:52:27 +0000 2018', 'favourites_count': 549, 'utc_offset': None, 'time_zone': None, 'geo_enabled': False, 'verified': False, 'statuses_count': 73, 'lang': 'en', 'contributors_enabled': False, 'is_translator': False, 'is_translation_enabled': False, 'profile_background_color': 'F5F8FA', 'profile_background_image_url': None, 'profile_background_image_url_https': None, 'profile_background_tile': False, 'profile_image_url': 'http://pbs.twimg.com/profile_images/991665913995853825/KFD-R3R3_normal.jpg', 'profile_image_url_https': 'https://pbs.twimg.com/profile_images/991665913995853825/KFD-R3R3_normal.jpg', 'profile_banner_url': 'https://pbs.twimg.com/profile_banners/991314408776364032/1525266807', 'profile_link_color': '1DA1F2', 'profile_sidebar_border_color': 'C0DEED', 'profile_sidebar_fill_color': 'DDEEF6', 'profile_text_color': '333333', 'profile_use_background_image': True, 'has_extended_profile': True, 'default_profile': True, 'default_profile_image': False, 'following': False, 'follow_request_sent': False, 'notifications': False, 'translator_type': 'none'}, 'geo': None, 'coordinates': None, 'place': None, 'contributors': None, 'retweeted_status': {'created_at': 'Thu May 03 14:39:07 +0000 2018', 'id': 992050927275331584, 'id_str': '992050927275331584', 'text': 'DIVULGAÇÃO PESADA PORRA VEM CNCO DOMINAR O BRASIL', 'truncated': False, 'entities': {'hashtags': [], 'symbols': [], 'user_mentions': [], 'urls': []}, 'metadata': {'iso_language_code': 'pt', 'result_type': 'recent'}, 'source': '<a href=\"http://twitter.com/download/android\" rel=\"nofollow\">Twitter for Android</a>', 'in_reply_to_status_id': None, 'in_reply_to_status_id_str': None, 'in_reply_to_user_id': None, 'in_reply_to_user_id_str': None, 'in_reply_to_screen_name': None, 'user': {'id': 734258844755496960, 'id_str': '734258844755496960', 'name': '˗ˏˋ apollo 🇧🇷 ˎˊ˗', 'screen_name': 'joelbrasileiro', 'location': 'ʲᵖ ᶠᵒˡˡᵒʷˢ 07.01', 'description': 'ɴᴏ ʜᴀʏ ᴅɪsᴛᴀɴᴄɪᴀ ᴇɴᴛʀᴇ ᴛú ʏ ʏᴏ ϙᴜᴇ ᴍᴇ ɪᴍᴘɪᴅᴀ sᴇɢᴜɪʀ ᴀᴍáɴᴅᴏᴛᴇ | ᴄɴᴄᴏ, ᴀɴɪᴛᴛᴀ fan account', 'url': 'https://t.co/i7dm1VPkBb', 'entities': {'url': {'urls': [{'url': 'https://t.co/i7dm1VPkBb', 'expanded_url': 'https://twitter.com/joelbrasileiro/status/965349042418012162', 'display_url': 'twitter.com/joelbrasileiro…', 'indices': [0, 23]}]}, 'description': {'urls': []}}, 'protected': False, 'followers_count': 7144, 'friends_count': 4616, 'listed_count': 38, 'created_at': 'Sun May 22 05:45:25 +0000 2016', 'favourites_count': 18125, 'utc_offset': None, 'time_zone': None, 'geo_enabled': True, 'verified': False, 'statuses_count': 54821, 'lang': 'pt', 'contributors_enabled': False, 'is_translator': False, 'is_translation_enabled': False, 'profile_background_color': 'F5F8FA', 'profile_background_image_url': None, 'profile_background_image_url_https': None, 'profile_background_tile': False, 'profile_image_url': 'http://pbs.twimg.com/profile_images/984950657479307264/RNalmWXv_normal.jpg', 'profile_image_url_https': 'https://pbs.twimg.com/profile_images/984950657479307264/RNalmWXv_normal.jpg', 'profile_banner_url': 'https://pbs.twimg.com/profile_banners/734258844755496960/1523657965', 'profile_link_color': '1DA1F2', 'profile_sidebar_border_color': 'C0DEED', 'profile_sidebar_fill_color': 'DDEEF6', 'profile_text_color': '333333', 'profile_use_background_image': True, 'has_extended_profile': True, 'default_profile': True, 'default_profile_image': False, 'following': False, 'follow_request_sent': False, 'notifications': False, 'translator_type': 'none'}, 'geo': None, 'coordinates': None, 'place': None, 'contributors': None, 'is_quote_status': False, 'retweet_count': 1, 'favorite_count': 1, 'favorited': False, 'retweeted': False, 'lang': 'pt'}, 'is_quote_status': False, 'retweet_count': 1, 'favorite_count': 0, 'favorited': False, 'retweeted': False, 'lang': 'pt'}], 'search_metadata': {'completed_in': 0.018, 'max_id': 992051246327586817, 'max_id_str': '992051246327586817', 'next_results': '?max_id=992051246327586816&q=brasil&lang=pt&count=1&include_entities=1', 'query': 'brasil', 'refresh_url': '?since_id=992051246327586817&q=brasil&lang=pt&include_entities=1', 'count': 1, 'since_id': 0, 'since_id_str': '0'}}\n"
     ]
    }
   ],
   "source": [
    "#Isso irá imprimir no console o resultado armazenado na variável result\n",
    "print(result)"
   ]
  },
  {
   "cell_type": "markdown",
   "metadata": {},
   "source": [
    "A variável **result** irá armazenar os `n` últimos tweets postados que possuem a palavra **brasil** no texto e que estão em português. Sendo `n` o valor passado no parâmetro `count`. Mais detalhes dos parâmetros que podem ser utilizados com o método *search* podem ser encontrados na documentação para desenvolvedores twitter: https://dev.twitter.com/rest/reference/get/search/tweets.\n",
    "\n",
    "A **query** de busca utiliza os mesmos critérios de busca do twitter. Podemos buscar por hashtag ou ainda pela combinação de várias palavras. Uma lista dos comandos que podem ser passados pela query pode ser encontrada neste link: https://dev.twitter.com/rest/public/search.\n",
    "\n",
    "Segue alguns exemplos:"
   ]
  },
  {
   "cell_type": "code",
   "execution_count": 6,
   "metadata": {},
   "outputs": [],
   "source": [
    "result_hashtag = tw.search(q=\"#MasterChefBR\", count=5, lang=\"pt\")\n",
    "result_multi = tw.search(q=\"#MasterChefBR OR #MasterChef\", count=100, lang=\"pt\")"
   ]
  },
  {
   "cell_type": "markdown",
   "metadata": {},
   "source": [
    "Nos exemplos a seguir vamos trabalhar com a variável`result_hashtag` que armazenou 5 tweets com a `hashtag` `#MasterChefBR`. \n",
    "\n",
    "A busca retorna um dicionário com dois campos:\n",
    "\n",
    "* **search_metadata:** metadados da busca\n",
    "* **statuses:** os tweets que foram coletados\n",
    "\n",
    "Podemos imprimir tais informações utilizando os comandos a seguir:\n"
   ]
  },
  {
   "cell_type": "code",
   "execution_count": 7,
   "metadata": {
    "scrolled": true
   },
   "outputs": [
    {
     "name": "stdout",
     "output_type": "stream",
     "text": [
      "{'completed_in': 0.042, 'max_id': 992051106162401280, 'max_id_str': '992051106162401280', 'next_results': '?max_id=992049288481067008&q=%23MasterChefBR&lang=pt&count=5&include_entities=1', 'query': '%23MasterChefBR', 'refresh_url': '?since_id=992051106162401280&q=%23MasterChefBR&lang=pt&include_entities=1', 'count': 5, 'since_id': 0, 'since_id_str': '0'}\n"
     ]
    }
   ],
   "source": [
    "print(result_hashtag['search_metadata'])"
   ]
  },
  {
   "cell_type": "code",
   "execution_count": 8,
   "metadata": {},
   "outputs": [
    {
     "name": "stdout",
     "output_type": "stream",
     "text": [
      "[{'created_at': 'Thu May 03 14:39:49 +0000 2018', 'id': 992051106162401280, 'id_str': '992051106162401280', 'text': 'RT @unicorndoreuri: Hugo e Rui: A \\nEu: lindíssimos, cozinharam muito!\\n#MasterChefBR https://t.co/Hvh9tztAwm', 'truncated': False, 'entities': {'hashtags': [{'text': 'MasterChefBR', 'indices': [70, 83]}], 'symbols': [], 'user_mentions': [{'screen_name': 'unicorndoreuri', 'name': 'L∆RISS∆🌻 TMYLM TOUR 2018', 'id': 386630871, 'id_str': '386630871', 'indices': [3, 18]}], 'urls': [], 'media': [{'id': 991523545544101888, 'id_str': '991523545544101888', 'indices': [84, 107], 'media_url': 'http://pbs.twimg.com/media/DcKZaU6XkAAKY_W.jpg', 'media_url_https': 'https://pbs.twimg.com/media/DcKZaU6XkAAKY_W.jpg', 'url': 'https://t.co/Hvh9tztAwm', 'display_url': 'pic.twitter.com/Hvh9tztAwm', 'expanded_url': 'https://twitter.com/unicorndoreuri/status/991523563504066561/photo/1', 'type': 'photo', 'sizes': {'thumb': {'w': 150, 'h': 150, 'resize': 'crop'}, 'large': {'w': 836, 'h': 836, 'resize': 'fit'}, 'medium': {'w': 836, 'h': 836, 'resize': 'fit'}, 'small': {'w': 680, 'h': 680, 'resize': 'fit'}}, 'source_status_id': 991523563504066561, 'source_status_id_str': '991523563504066561', 'source_user_id': 386630871, 'source_user_id_str': '386630871'}]}, 'extended_entities': {'media': [{'id': 991523545544101888, 'id_str': '991523545544101888', 'indices': [84, 107], 'media_url': 'http://pbs.twimg.com/media/DcKZaU6XkAAKY_W.jpg', 'media_url_https': 'https://pbs.twimg.com/media/DcKZaU6XkAAKY_W.jpg', 'url': 'https://t.co/Hvh9tztAwm', 'display_url': 'pic.twitter.com/Hvh9tztAwm', 'expanded_url': 'https://twitter.com/unicorndoreuri/status/991523563504066561/photo/1', 'type': 'photo', 'sizes': {'thumb': {'w': 150, 'h': 150, 'resize': 'crop'}, 'large': {'w': 836, 'h': 836, 'resize': 'fit'}, 'medium': {'w': 836, 'h': 836, 'resize': 'fit'}, 'small': {'w': 680, 'h': 680, 'resize': 'fit'}}, 'source_status_id': 991523563504066561, 'source_status_id_str': '991523563504066561', 'source_user_id': 386630871, 'source_user_id_str': '386630871'}]}, 'metadata': {'iso_language_code': 'pt', 'result_type': 'recent'}, 'source': '<a href=\"https://mobile.twitter.com\" rel=\"nofollow\">Twitter Lite</a>', 'in_reply_to_status_id': None, 'in_reply_to_status_id_str': None, 'in_reply_to_user_id': None, 'in_reply_to_user_id_str': None, 'in_reply_to_screen_name': None, 'user': {'id': 190416667, 'id_str': '190416667', 'name': 'Thaynara', 'screen_name': 'thaylights', 'location': '@thaylights  everywhere', 'description': 'Conhecê-lo para torná-lo conhecido. ✝️💕', 'url': 'https://t.co/ypVCmjQN7m', 'entities': {'url': {'urls': [{'url': 'https://t.co/ypVCmjQN7m', 'expanded_url': 'https://twitter.com/justinbieber/status/242791613586350080', 'display_url': 'twitter.com/justinbieber/s…', 'indices': [0, 23]}]}, 'description': {'urls': []}}, 'protected': False, 'followers_count': 1445, 'friends_count': 943, 'listed_count': 23, 'created_at': 'Mon Sep 13 22:17:11 +0000 2010', 'favourites_count': 6606, 'utc_offset': -10800, 'time_zone': 'Atlantic Time (Canada)', 'geo_enabled': True, 'verified': False, 'statuses_count': 56799, 'lang': 'pt', 'contributors_enabled': False, 'is_translator': False, 'is_translation_enabled': True, 'profile_background_color': 'FFFFFF', 'profile_background_image_url': 'http://pbs.twimg.com/profile_background_images/628625157238726656/Pc4O3F2H.png', 'profile_background_image_url_https': 'https://pbs.twimg.com/profile_background_images/628625157238726656/Pc4O3F2H.png', 'profile_background_tile': False, 'profile_image_url': 'http://pbs.twimg.com/profile_images/814200896032821249/nal9nFYJ_normal.jpg', 'profile_image_url_https': 'https://pbs.twimg.com/profile_images/814200896032821249/nal9nFYJ_normal.jpg', 'profile_banner_url': 'https://pbs.twimg.com/profile_banners/190416667/1480049095', 'profile_link_color': 'F5ABB5', 'profile_sidebar_border_color': '000000', 'profile_sidebar_fill_color': 'FFFCFD', 'profile_text_color': '0EEAF2', 'profile_use_background_image': True, 'has_extended_profile': True, 'default_profile': False, 'default_profile_image': False, 'following': False, 'follow_request_sent': False, 'notifications': False, 'translator_type': 'regular'}, 'geo': None, 'coordinates': None, 'place': None, 'contributors': None, 'retweeted_status': {'created_at': 'Wed May 02 03:43:33 +0000 2018', 'id': 991523563504066561, 'id_str': '991523563504066561', 'text': 'Hugo e Rui: A \\nEu: lindíssimos, cozinharam muito!\\n#MasterChefBR https://t.co/Hvh9tztAwm', 'truncated': False, 'entities': {'hashtags': [{'text': 'MasterChefBR', 'indices': [50, 63]}], 'symbols': [], 'user_mentions': [], 'urls': [], 'media': [{'id': 991523545544101888, 'id_str': '991523545544101888', 'indices': [64, 87], 'media_url': 'http://pbs.twimg.com/media/DcKZaU6XkAAKY_W.jpg', 'media_url_https': 'https://pbs.twimg.com/media/DcKZaU6XkAAKY_W.jpg', 'url': 'https://t.co/Hvh9tztAwm', 'display_url': 'pic.twitter.com/Hvh9tztAwm', 'expanded_url': 'https://twitter.com/unicorndoreuri/status/991523563504066561/photo/1', 'type': 'photo', 'sizes': {'thumb': {'w': 150, 'h': 150, 'resize': 'crop'}, 'large': {'w': 836, 'h': 836, 'resize': 'fit'}, 'medium': {'w': 836, 'h': 836, 'resize': 'fit'}, 'small': {'w': 680, 'h': 680, 'resize': 'fit'}}}]}, 'extended_entities': {'media': [{'id': 991523545544101888, 'id_str': '991523545544101888', 'indices': [64, 87], 'media_url': 'http://pbs.twimg.com/media/DcKZaU6XkAAKY_W.jpg', 'media_url_https': 'https://pbs.twimg.com/media/DcKZaU6XkAAKY_W.jpg', 'url': 'https://t.co/Hvh9tztAwm', 'display_url': 'pic.twitter.com/Hvh9tztAwm', 'expanded_url': 'https://twitter.com/unicorndoreuri/status/991523563504066561/photo/1', 'type': 'photo', 'sizes': {'thumb': {'w': 150, 'h': 150, 'resize': 'crop'}, 'large': {'w': 836, 'h': 836, 'resize': 'fit'}, 'medium': {'w': 836, 'h': 836, 'resize': 'fit'}, 'small': {'w': 680, 'h': 680, 'resize': 'fit'}}}]}, 'metadata': {'iso_language_code': 'pt', 'result_type': 'recent'}, 'source': '<a href=\"https://mobile.twitter.com\" rel=\"nofollow\">Twitter Lite</a>', 'in_reply_to_status_id': None, 'in_reply_to_status_id_str': None, 'in_reply_to_user_id': None, 'in_reply_to_user_id_str': None, 'in_reply_to_screen_name': None, 'user': {'id': 386630871, 'id_str': '386630871', 'name': 'L∆RISS∆🌻 TMYLM TOUR 2018', 'screen_name': 'unicorndoreuri', 'location': 'São Paulo, Brasil', 'description': 'Um • insignificante em uma galáxia infinita', 'url': 'https://t.co/oWew7R1gcW', 'entities': {'url': {'urls': [{'url': 'https://t.co/oWew7R1gcW', 'expanded_url': 'http://instagram.com/shinelaris', 'display_url': 'instagram.com/shinelaris', 'indices': [0, 23]}]}, 'description': {'urls': []}}, 'protected': False, 'followers_count': 1526, 'friends_count': 1913, 'listed_count': 5, 'created_at': 'Fri Oct 07 16:25:41 +0000 2011', 'favourites_count': 7688, 'utc_offset': -10800, 'time_zone': 'Brasilia', 'geo_enabled': True, 'verified': False, 'statuses_count': 24327, 'lang': 'pt', 'contributors_enabled': False, 'is_translator': False, 'is_translation_enabled': False, 'profile_background_color': 'DD2E44', 'profile_background_image_url': 'http://pbs.twimg.com/profile_background_images/541956654367916036/996XLHCk.png', 'profile_background_image_url_https': 'https://pbs.twimg.com/profile_background_images/541956654367916036/996XLHCk.png', 'profile_background_tile': True, 'profile_image_url': 'http://pbs.twimg.com/profile_images/991533129776148480/qiXf2TYs_normal.jpg', 'profile_image_url_https': 'https://pbs.twimg.com/profile_images/991533129776148480/qiXf2TYs_normal.jpg', 'profile_banner_url': 'https://pbs.twimg.com/profile_banners/386630871/1518659084', 'profile_link_color': '7FDBB6', 'profile_sidebar_border_color': '000000', 'profile_sidebar_fill_color': '7AC3EE', 'profile_text_color': '3D1957', 'profile_use_background_image': True, 'has_extended_profile': True, 'default_profile': False, 'default_profile_image': False, 'following': False, 'follow_request_sent': False, 'notifications': False, 'translator_type': 'regular'}, 'geo': None, 'coordinates': None, 'place': None, 'contributors': None, 'is_quote_status': False, 'retweet_count': 247, 'favorite_count': 500, 'favorited': False, 'retweeted': False, 'possibly_sensitive': False, 'lang': 'pt'}, 'is_quote_status': False, 'retweet_count': 247, 'favorite_count': 0, 'favorited': False, 'retweeted': False, 'possibly_sensitive': False, 'lang': 'pt'}, {'created_at': 'Thu May 03 14:38:35 +0000 2018', 'id': 992050794835914752, 'id_str': '992050794835914752', 'text': 'RT @masterchefbr: Te chamam pra sair e você precisa falar o quanto de dinheiro tem sobrando para os rolês. #MasterChefBR https://t.co/gNmgf…', 'truncated': False, 'entities': {'hashtags': [{'text': 'MasterChefBR', 'indices': [107, 120]}], 'symbols': [], 'user_mentions': [{'screen_name': 'masterchefbr', 'name': 'MasterChef Brasil', 'id': 2598211989, 'id_str': '2598211989', 'indices': [3, 16]}], 'urls': []}, 'metadata': {'iso_language_code': 'pt', 'result_type': 'recent'}, 'source': '<a href=\"http://twitter.com/download/android\" rel=\"nofollow\">Twitter for Android</a>', 'in_reply_to_status_id': None, 'in_reply_to_status_id_str': None, 'in_reply_to_user_id': None, 'in_reply_to_user_id_str': None, 'in_reply_to_screen_name': None, 'user': {'id': 804135340659318784, 'id_str': '804135340659318784', 'name': 'Juli Comparsi Chies', 'screen_name': 'ChiesJuli', 'location': 'Carlos Barbosa, Brasil', 'description': 'Nutricionista🍏🍓,  gaúcha, 26 anos. Apaixonada💗  pela profissão,  pela vida, por praia🏝,  calor e verão🌞!!!!', 'url': None, 'entities': {'description': {'urls': []}}, 'protected': False, 'followers_count': 79, 'friends_count': 188, 'listed_count': 1, 'created_at': 'Thu Dec 01 01:29:40 +0000 2016', 'favourites_count': 1249, 'utc_offset': None, 'time_zone': None, 'geo_enabled': False, 'verified': False, 'statuses_count': 538, 'lang': 'pt', 'contributors_enabled': False, 'is_translator': False, 'is_translation_enabled': False, 'profile_background_color': 'F5F8FA', 'profile_background_image_url': None, 'profile_background_image_url_https': None, 'profile_background_tile': False, 'profile_image_url': 'http://pbs.twimg.com/profile_images/847151150990348288/jGhJZ75i_normal.jpg', 'profile_image_url_https': 'https://pbs.twimg.com/profile_images/847151150990348288/jGhJZ75i_normal.jpg', 'profile_banner_url': 'https://pbs.twimg.com/profile_banners/804135340659318784/1480587539', 'profile_link_color': '1DA1F2', 'profile_sidebar_border_color': 'C0DEED', 'profile_sidebar_fill_color': 'DDEEF6', 'profile_text_color': '333333', 'profile_use_background_image': True, 'has_extended_profile': True, 'default_profile': True, 'default_profile_image': False, 'following': False, 'follow_request_sent': False, 'notifications': False, 'translator_type': 'none'}, 'geo': None, 'coordinates': None, 'place': None, 'contributors': None, 'retweeted_status': {'created_at': 'Wed May 02 20:20:00 +0000 2018', 'id': 991774327614967809, 'id_str': '991774327614967809', 'text': 'Te chamam pra sair e você precisa falar o quanto de dinheiro tem sobrando para os rolês. #MasterChefBR https://t.co/gNmgf4C6sH', 'truncated': False, 'entities': {'hashtags': [{'text': 'MasterChefBR', 'indices': [89, 102]}], 'symbols': [], 'user_mentions': [], 'urls': [], 'media': [{'id': 991729286951440391, 'id_str': '991729286951440391', 'indices': [103, 126], 'media_url': 'http://pbs.twimg.com/media/DcNUiDYXkAc4Aty.jpg', 'media_url_https': 'https://pbs.twimg.com/media/DcNUiDYXkAc4Aty.jpg', 'url': 'https://t.co/gNmgf4C6sH', 'display_url': 'pic.twitter.com/gNmgf4C6sH', 'expanded_url': 'https://twitter.com/masterchefbr/status/991774327614967809/photo/1', 'type': 'photo', 'sizes': {'small': {'w': 680, 'h': 453, 'resize': 'fit'}, 'thumb': {'w': 150, 'h': 150, 'resize': 'crop'}, 'large': {'w': 1080, 'h': 720, 'resize': 'fit'}, 'medium': {'w': 1080, 'h': 720, 'resize': 'fit'}}}]}, 'extended_entities': {'media': [{'id': 991729286951440391, 'id_str': '991729286951440391', 'indices': [103, 126], 'media_url': 'http://pbs.twimg.com/media/DcNUiDYXkAc4Aty.jpg', 'media_url_https': 'https://pbs.twimg.com/media/DcNUiDYXkAc4Aty.jpg', 'url': 'https://t.co/gNmgf4C6sH', 'display_url': 'pic.twitter.com/gNmgf4C6sH', 'expanded_url': 'https://twitter.com/masterchefbr/status/991774327614967809/photo/1', 'type': 'photo', 'sizes': {'small': {'w': 680, 'h': 453, 'resize': 'fit'}, 'thumb': {'w': 150, 'h': 150, 'resize': 'crop'}, 'large': {'w': 1080, 'h': 720, 'resize': 'fit'}, 'medium': {'w': 1080, 'h': 720, 'resize': 'fit'}}}]}, 'metadata': {'iso_language_code': 'pt', 'result_type': 'recent'}, 'source': '<a href=\"https://about.twitter.com/products/tweetdeck\" rel=\"nofollow\">TweetDeck</a>', 'in_reply_to_status_id': None, 'in_reply_to_status_id_str': None, 'in_reply_to_user_id': None, 'in_reply_to_user_id_str': None, 'in_reply_to_screen_name': None, 'user': {'id': 2598211989, 'id_str': '2598211989', 'name': 'MasterChef Brasil', 'screen_name': 'masterchefbr', 'location': '', 'description': 'O maior reality culinário do mundo toda terça, às 22h30, na tela da @BandTV', 'url': 'https://t.co/yjbDPPVZNC', 'entities': {'url': {'urls': [{'url': 'https://t.co/yjbDPPVZNC', 'expanded_url': 'http://band.com.br/masterchef', 'display_url': 'band.com.br/masterchef', 'indices': [0, 23]}]}, 'description': {'urls': []}}, 'protected': False, 'followers_count': 1598993, 'friends_count': 300, 'listed_count': 411, 'created_at': 'Tue Jun 10 16:23:11 +0000 2014', 'favourites_count': 3164, 'utc_offset': -10800, 'time_zone': 'Brasilia', 'geo_enabled': True, 'verified': True, 'statuses_count': 180726, 'lang': 'pt', 'contributors_enabled': False, 'is_translator': False, 'is_translation_enabled': False, 'profile_background_color': '1A1B1F', 'profile_background_image_url': 'http://abs.twimg.com/images/themes/theme9/bg.gif', 'profile_background_image_url_https': 'https://abs.twimg.com/images/themes/theme9/bg.gif', 'profile_background_tile': False, 'profile_image_url': 'http://pbs.twimg.com/profile_images/969251202105036802/DOCRA8gK_normal.jpg', 'profile_image_url_https': 'https://pbs.twimg.com/profile_images/969251202105036802/DOCRA8gK_normal.jpg', 'profile_banner_url': 'https://pbs.twimg.com/profile_banners/2598211989/1519922489', 'profile_link_color': '2FC2EF', 'profile_sidebar_border_color': '181A1E', 'profile_sidebar_fill_color': '252429', 'profile_text_color': '666666', 'profile_use_background_image': True, 'has_extended_profile': False, 'default_profile': False, 'default_profile_image': False, 'following': False, 'follow_request_sent': False, 'notifications': False, 'translator_type': 'none'}, 'geo': None, 'coordinates': None, 'place': None, 'contributors': None, 'is_quote_status': False, 'retweet_count': 171, 'favorite_count': 686, 'favorited': False, 'retweeted': False, 'possibly_sensitive': False, 'lang': 'pt'}, 'is_quote_status': False, 'retweet_count': 171, 'favorite_count': 0, 'favorited': False, 'retweeted': False, 'lang': 'pt'}, {'created_at': 'Thu May 03 14:37:11 +0000 2018', 'id': 992050441067356160, 'id_str': '992050441067356160', 'text': 'RT @ailathanathalia: #MasterChefBR Baguncei a aula toda no começo do bimestre// preciso de nota https://t.co/TWChKjfEyQ', 'truncated': False, 'entities': {'hashtags': [{'text': 'MasterChefBR', 'indices': [21, 34]}], 'symbols': [], 'user_mentions': [{'screen_name': 'ailathanathalia', 'name': 'Nathalia vai receber o boletim amanha', 'id': 3346075054, 'id_str': '3346075054', 'indices': [3, 19]}], 'urls': [], 'media': [{'id': 991521242531418112, 'id_str': '991521242531418112', 'indices': [96, 119], 'media_url': 'http://pbs.twimg.com/media/DcKXURhW0AAneO6.jpg', 'media_url_https': 'https://pbs.twimg.com/media/DcKXURhW0AAneO6.jpg', 'url': 'https://t.co/TWChKjfEyQ', 'display_url': 'pic.twitter.com/TWChKjfEyQ', 'expanded_url': 'https://twitter.com/ailathanathalia/status/991521251981185024/photo/1', 'type': 'photo', 'sizes': {'large': {'w': 1080, 'h': 720, 'resize': 'fit'}, 'thumb': {'w': 150, 'h': 150, 'resize': 'crop'}, 'small': {'w': 680, 'h': 453, 'resize': 'fit'}, 'medium': {'w': 1080, 'h': 720, 'resize': 'fit'}}, 'source_status_id': 991521251981185024, 'source_status_id_str': '991521251981185024', 'source_user_id': 3346075054, 'source_user_id_str': '3346075054'}]}, 'extended_entities': {'media': [{'id': 991521242531418112, 'id_str': '991521242531418112', 'indices': [96, 119], 'media_url': 'http://pbs.twimg.com/media/DcKXURhW0AAneO6.jpg', 'media_url_https': 'https://pbs.twimg.com/media/DcKXURhW0AAneO6.jpg', 'url': 'https://t.co/TWChKjfEyQ', 'display_url': 'pic.twitter.com/TWChKjfEyQ', 'expanded_url': 'https://twitter.com/ailathanathalia/status/991521251981185024/photo/1', 'type': 'photo', 'sizes': {'large': {'w': 1080, 'h': 720, 'resize': 'fit'}, 'thumb': {'w': 150, 'h': 150, 'resize': 'crop'}, 'small': {'w': 680, 'h': 453, 'resize': 'fit'}, 'medium': {'w': 1080, 'h': 720, 'resize': 'fit'}}, 'source_status_id': 991521251981185024, 'source_status_id_str': '991521251981185024', 'source_user_id': 3346075054, 'source_user_id_str': '3346075054'}, {'id': 991521242594279424, 'id_str': '991521242594279424', 'indices': [96, 119], 'media_url': 'http://pbs.twimg.com/media/DcKXURwWAAAoGm_.jpg', 'media_url_https': 'https://pbs.twimg.com/media/DcKXURwWAAAoGm_.jpg', 'url': 'https://t.co/TWChKjfEyQ', 'display_url': 'pic.twitter.com/TWChKjfEyQ', 'expanded_url': 'https://twitter.com/ailathanathalia/status/991521251981185024/photo/1', 'type': 'photo', 'sizes': {'thumb': {'w': 150, 'h': 150, 'resize': 'crop'}, 'large': {'w': 675, 'h': 1080, 'resize': 'fit'}, 'small': {'w': 425, 'h': 680, 'resize': 'fit'}, 'medium': {'w': 675, 'h': 1080, 'resize': 'fit'}}, 'source_status_id': 991521251981185024, 'source_status_id_str': '991521251981185024', 'source_user_id': 3346075054, 'source_user_id_str': '3346075054'}]}, 'metadata': {'iso_language_code': 'pt', 'result_type': 'recent'}, 'source': '<a href=\"http://twitter.com/download/android\" rel=\"nofollow\">Twitter for Android</a>', 'in_reply_to_status_id': None, 'in_reply_to_status_id_str': None, 'in_reply_to_user_id': None, 'in_reply_to_user_id_str': None, 'in_reply_to_screen_name': None, 'user': {'id': 798935108640239616, 'id_str': '798935108640239616', 'name': 'July', 'screen_name': 'lally_park', 'location': '', 'description': 'uma pessoa super amorzinho com um pouco de retardo mental :v 😁🤗', 'url': None, 'entities': {'description': {'urls': []}}, 'protected': False, 'followers_count': 162, 'friends_count': 252, 'listed_count': 0, 'created_at': 'Wed Nov 16 17:05:48 +0000 2016', 'favourites_count': 916, 'utc_offset': None, 'time_zone': None, 'geo_enabled': False, 'verified': False, 'statuses_count': 288, 'lang': 'pt', 'contributors_enabled': False, 'is_translator': False, 'is_translation_enabled': False, 'profile_background_color': 'F5F8FA', 'profile_background_image_url': None, 'profile_background_image_url_https': None, 'profile_background_tile': False, 'profile_image_url': 'http://pbs.twimg.com/profile_images/951490527110815744/0aLPurq9_normal.jpg', 'profile_image_url_https': 'https://pbs.twimg.com/profile_images/951490527110815744/0aLPurq9_normal.jpg', 'profile_banner_url': 'https://pbs.twimg.com/profile_banners/798935108640239616/1479317954', 'profile_link_color': '1DA1F2', 'profile_sidebar_border_color': 'C0DEED', 'profile_sidebar_fill_color': 'DDEEF6', 'profile_text_color': '333333', 'profile_use_background_image': True, 'has_extended_profile': True, 'default_profile': True, 'default_profile_image': False, 'following': False, 'follow_request_sent': False, 'notifications': False, 'translator_type': 'none'}, 'geo': None, 'coordinates': None, 'place': None, 'contributors': None, 'retweeted_status': {'created_at': 'Wed May 02 03:34:22 +0000 2018', 'id': 991521251981185024, 'id_str': '991521251981185024', 'text': '#MasterChefBR Baguncei a aula toda no começo do bimestre// preciso de nota https://t.co/TWChKjfEyQ', 'truncated': False, 'entities': {'hashtags': [{'text': 'MasterChefBR', 'indices': [0, 13]}], 'symbols': [], 'user_mentions': [], 'urls': [], 'media': [{'id': 991521242531418112, 'id_str': '991521242531418112', 'indices': [75, 98], 'media_url': 'http://pbs.twimg.com/media/DcKXURhW0AAneO6.jpg', 'media_url_https': 'https://pbs.twimg.com/media/DcKXURhW0AAneO6.jpg', 'url': 'https://t.co/TWChKjfEyQ', 'display_url': 'pic.twitter.com/TWChKjfEyQ', 'expanded_url': 'https://twitter.com/ailathanathalia/status/991521251981185024/photo/1', 'type': 'photo', 'sizes': {'large': {'w': 1080, 'h': 720, 'resize': 'fit'}, 'thumb': {'w': 150, 'h': 150, 'resize': 'crop'}, 'small': {'w': 680, 'h': 453, 'resize': 'fit'}, 'medium': {'w': 1080, 'h': 720, 'resize': 'fit'}}}]}, 'extended_entities': {'media': [{'id': 991521242531418112, 'id_str': '991521242531418112', 'indices': [75, 98], 'media_url': 'http://pbs.twimg.com/media/DcKXURhW0AAneO6.jpg', 'media_url_https': 'https://pbs.twimg.com/media/DcKXURhW0AAneO6.jpg', 'url': 'https://t.co/TWChKjfEyQ', 'display_url': 'pic.twitter.com/TWChKjfEyQ', 'expanded_url': 'https://twitter.com/ailathanathalia/status/991521251981185024/photo/1', 'type': 'photo', 'sizes': {'large': {'w': 1080, 'h': 720, 'resize': 'fit'}, 'thumb': {'w': 150, 'h': 150, 'resize': 'crop'}, 'small': {'w': 680, 'h': 453, 'resize': 'fit'}, 'medium': {'w': 1080, 'h': 720, 'resize': 'fit'}}}, {'id': 991521242594279424, 'id_str': '991521242594279424', 'indices': [75, 98], 'media_url': 'http://pbs.twimg.com/media/DcKXURwWAAAoGm_.jpg', 'media_url_https': 'https://pbs.twimg.com/media/DcKXURwWAAAoGm_.jpg', 'url': 'https://t.co/TWChKjfEyQ', 'display_url': 'pic.twitter.com/TWChKjfEyQ', 'expanded_url': 'https://twitter.com/ailathanathalia/status/991521251981185024/photo/1', 'type': 'photo', 'sizes': {'thumb': {'w': 150, 'h': 150, 'resize': 'crop'}, 'large': {'w': 675, 'h': 1080, 'resize': 'fit'}, 'small': {'w': 425, 'h': 680, 'resize': 'fit'}, 'medium': {'w': 675, 'h': 1080, 'resize': 'fit'}}}]}, 'metadata': {'iso_language_code': 'pt', 'result_type': 'recent'}, 'source': '<a href=\"http://twitter.com/download/iphone\" rel=\"nofollow\">Twitter for iPhone</a>', 'in_reply_to_status_id': None, 'in_reply_to_status_id_str': None, 'in_reply_to_user_id': None, 'in_reply_to_user_id_str': None, 'in_reply_to_screen_name': None, 'user': {'id': 3346075054, 'id_str': '3346075054', 'name': 'Nathalia vai receber o boletim amanha', 'screen_name': 'ailathanathalia', 'location': 'Na sua', 'description': 'to impactada', 'url': 'https://t.co/9SBxLo4ahE', 'entities': {'url': {'urls': [{'url': 'https://t.co/9SBxLo4ahE', 'expanded_url': 'http://www.vamofechar.com', 'display_url': 'vamofechar.com', 'indices': [0, 23]}]}, 'description': {'urls': []}}, 'protected': False, 'followers_count': 163, 'friends_count': 777, 'listed_count': 0, 'created_at': 'Thu Jun 25 22:14:01 +0000 2015', 'favourites_count': 6046, 'utc_offset': None, 'time_zone': None, 'geo_enabled': True, 'verified': False, 'statuses_count': 5980, 'lang': 'pt', 'contributors_enabled': False, 'is_translator': False, 'is_translation_enabled': False, 'profile_background_color': 'C0DEED', 'profile_background_image_url': 'http://abs.twimg.com/images/themes/theme1/bg.png', 'profile_background_image_url_https': 'https://abs.twimg.com/images/themes/theme1/bg.png', 'profile_background_tile': False, 'profile_image_url': 'http://pbs.twimg.com/profile_images/978081930682957824/njng-Idh_normal.jpg', 'profile_image_url_https': 'https://pbs.twimg.com/profile_images/978081930682957824/njng-Idh_normal.jpg', 'profile_banner_url': 'https://pbs.twimg.com/profile_banners/3346075054/1516910995', 'profile_link_color': '1DA1F2', 'profile_sidebar_border_color': 'C0DEED', 'profile_sidebar_fill_color': 'DDEEF6', 'profile_text_color': '333333', 'profile_use_background_image': True, 'has_extended_profile': True, 'default_profile': True, 'default_profile_image': False, 'following': False, 'follow_request_sent': False, 'notifications': False, 'translator_type': 'none'}, 'geo': None, 'coordinates': None, 'place': {'id': 'e044d7619f58056c', 'url': 'https://api.twitter.com/1.1/geo/id/e044d7619f58056c.json', 'place_type': 'city', 'name': 'Taboão da Serra', 'full_name': 'Taboão da Serra, Brasil', 'country_code': 'BR', 'country': 'Brazil', 'contained_within': [], 'bounding_box': {'type': 'Polygon', 'coordinates': [[[-46.821875, -23.647184], [-46.748556, -23.647184], [-46.748556, -23.5949089], [-46.821875, -23.5949089]]]}, 'attributes': {}}, 'contributors': None, 'is_quote_status': False, 'retweet_count': 76, 'favorite_count': 195, 'favorited': False, 'retweeted': False, 'possibly_sensitive': False, 'lang': 'pt'}, 'is_quote_status': False, 'retweet_count': 76, 'favorite_count': 0, 'favorited': False, 'retweeted': False, 'possibly_sensitive': False, 'lang': 'pt'}, {'created_at': 'Thu May 03 14:36:48 +0000 2018', 'id': 992050344933904386, 'id_str': '992050344933904386', 'text': 'Quando alguém fala mal da mamãe @RitaMChef \\n#MasterChefBR #masterchef https://t.co/wbFHapZo3C', 'truncated': False, 'entities': {'hashtags': [{'text': 'MasterChefBR', 'indices': [44, 57]}, {'text': 'masterchef', 'indices': [58, 69]}], 'symbols': [], 'user_mentions': [{'screen_name': 'RitaMChef', 'name': 'Rita', 'id': 973223447210942467, 'id_str': '973223447210942467', 'indices': [32, 42]}], 'urls': [], 'media': [{'id': 992050336973185024, 'id_str': '992050336973185024', 'indices': [70, 93], 'media_url': 'http://pbs.twimg.com/tweet_video_thumb/DcR4hn6X4AAPPww.jpg', 'media_url_https': 'https://pbs.twimg.com/tweet_video_thumb/DcR4hn6X4AAPPww.jpg', 'url': 'https://t.co/wbFHapZo3C', 'display_url': 'pic.twitter.com/wbFHapZo3C', 'expanded_url': 'https://twitter.com/RuiMChef/status/992050344933904386/photo/1', 'type': 'photo', 'sizes': {'small': {'w': 260, 'h': 150, 'resize': 'fit'}, 'thumb': {'w': 150, 'h': 150, 'resize': 'crop'}, 'large': {'w': 260, 'h': 150, 'resize': 'fit'}, 'medium': {'w': 260, 'h': 150, 'resize': 'fit'}}}]}, 'extended_entities': {'media': [{'id': 992050336973185024, 'id_str': '992050336973185024', 'indices': [70, 93], 'media_url': 'http://pbs.twimg.com/tweet_video_thumb/DcR4hn6X4AAPPww.jpg', 'media_url_https': 'https://pbs.twimg.com/tweet_video_thumb/DcR4hn6X4AAPPww.jpg', 'url': 'https://t.co/wbFHapZo3C', 'display_url': 'pic.twitter.com/wbFHapZo3C', 'expanded_url': 'https://twitter.com/RuiMChef/status/992050344933904386/photo/1', 'type': 'animated_gif', 'sizes': {'small': {'w': 260, 'h': 150, 'resize': 'fit'}, 'thumb': {'w': 150, 'h': 150, 'resize': 'crop'}, 'large': {'w': 260, 'h': 150, 'resize': 'fit'}, 'medium': {'w': 260, 'h': 150, 'resize': 'fit'}}, 'video_info': {'aspect_ratio': [26, 15], 'variants': [{'bitrate': 0, 'content_type': 'video/mp4', 'url': 'https://video.twimg.com/tweet_video/DcR4hn6X4AAPPww.mp4'}]}}]}, 'metadata': {'iso_language_code': 'pt', 'result_type': 'recent'}, 'source': '<a href=\"http://twitter.com/download/android\" rel=\"nofollow\">Twitter for Android</a>', 'in_reply_to_status_id': None, 'in_reply_to_status_id_str': None, 'in_reply_to_user_id': None, 'in_reply_to_user_id_str': None, 'in_reply_to_screen_name': None, 'user': {'id': 973007109481795584, 'id_str': '973007109481795584', 'name': 'Rui', 'screen_name': 'RuiMChef', 'location': '', 'description': 'Participante do MasterChef Brasil 5', 'url': 'https://t.co/yjbDPPVZNC', 'entities': {'url': {'urls': [{'url': 'https://t.co/yjbDPPVZNC', 'expanded_url': 'http://band.com.br/masterchef', 'display_url': 'band.com.br/masterchef', 'indices': [0, 23]}]}, 'description': {'urls': []}}, 'protected': False, 'followers_count': 4162, 'friends_count': 37, 'listed_count': 6, 'created_at': 'Mon Mar 12 01:25:47 +0000 2018', 'favourites_count': 754, 'utc_offset': -25200, 'time_zone': 'Pacific Time (US & Canada)', 'geo_enabled': False, 'verified': False, 'statuses_count': 337, 'lang': 'pt', 'contributors_enabled': False, 'is_translator': False, 'is_translation_enabled': False, 'profile_background_color': 'F5F8FA', 'profile_background_image_url': None, 'profile_background_image_url_https': None, 'profile_background_tile': False, 'profile_image_url': 'http://pbs.twimg.com/profile_images/974053038401949699/IsmTbAv2_normal.jpg', 'profile_image_url_https': 'https://pbs.twimg.com/profile_images/974053038401949699/IsmTbAv2_normal.jpg', 'profile_banner_url': 'https://pbs.twimg.com/profile_banners/973007109481795584/1521067323', 'profile_link_color': '1DA1F2', 'profile_sidebar_border_color': 'C0DEED', 'profile_sidebar_fill_color': 'DDEEF6', 'profile_text_color': '333333', 'profile_use_background_image': True, 'has_extended_profile': False, 'default_profile': True, 'default_profile_image': False, 'following': False, 'follow_request_sent': False, 'notifications': False, 'translator_type': 'none'}, 'geo': None, 'coordinates': None, 'place': None, 'contributors': None, 'is_quote_status': False, 'retweet_count': 0, 'favorite_count': 10, 'favorited': False, 'retweeted': False, 'possibly_sensitive': False, 'lang': 'pt'}, {'created_at': 'Thu May 03 14:32:36 +0000 2018', 'id': 992049288481067009, 'id_str': '992049288481067009', 'text': 'ícone acessível #MasterChefBR https://t.co/LEhLtys1Rt', 'truncated': False, 'entities': {'hashtags': [{'text': 'MasterChefBR', 'indices': [16, 29]}], 'symbols': [], 'user_mentions': [], 'urls': [], 'media': [{'id': 992049278225960961, 'id_str': '992049278225960961', 'indices': [30, 53], 'media_url': 'http://pbs.twimg.com/media/DcR3j_xXUAESL_T.jpg', 'media_url_https': 'https://pbs.twimg.com/media/DcR3j_xXUAESL_T.jpg', 'url': 'https://t.co/LEhLtys1Rt', 'display_url': 'pic.twitter.com/LEhLtys1Rt', 'expanded_url': 'https://twitter.com/daniruella/status/992049288481067009/photo/1', 'type': 'photo', 'sizes': {'thumb': {'w': 150, 'h': 150, 'resize': 'crop'}, 'medium': {'w': 750, 'h': 558, 'resize': 'fit'}, 'large': {'w': 750, 'h': 558, 'resize': 'fit'}, 'small': {'w': 680, 'h': 506, 'resize': 'fit'}}}]}, 'extended_entities': {'media': [{'id': 992049278225960961, 'id_str': '992049278225960961', 'indices': [30, 53], 'media_url': 'http://pbs.twimg.com/media/DcR3j_xXUAESL_T.jpg', 'media_url_https': 'https://pbs.twimg.com/media/DcR3j_xXUAESL_T.jpg', 'url': 'https://t.co/LEhLtys1Rt', 'display_url': 'pic.twitter.com/LEhLtys1Rt', 'expanded_url': 'https://twitter.com/daniruella/status/992049288481067009/photo/1', 'type': 'photo', 'sizes': {'thumb': {'w': 150, 'h': 150, 'resize': 'crop'}, 'medium': {'w': 750, 'h': 558, 'resize': 'fit'}, 'large': {'w': 750, 'h': 558, 'resize': 'fit'}, 'small': {'w': 680, 'h': 506, 'resize': 'fit'}}}]}, 'metadata': {'iso_language_code': 'pt', 'result_type': 'recent'}, 'source': '<a href=\"http://twitter.com/download/iphone\" rel=\"nofollow\">Twitter for iPhone</a>', 'in_reply_to_status_id': None, 'in_reply_to_status_id_str': None, 'in_reply_to_user_id': None, 'in_reply_to_user_id_str': None, 'in_reply_to_screen_name': None, 'user': {'id': 967928034304122880, 'id_str': '967928034304122880', 'name': 'Daniela', 'screen_name': 'daniruella', 'location': 'Minas Gerais, Brasil', 'description': 'Too school for cool.', 'url': None, 'entities': {'description': {'urls': []}}, 'protected': False, 'followers_count': 26, 'friends_count': 43, 'listed_count': 1, 'created_at': 'Mon Feb 26 01:03:21 +0000 2018', 'favourites_count': 374, 'utc_offset': None, 'time_zone': None, 'geo_enabled': False, 'verified': False, 'statuses_count': 541, 'lang': 'pt', 'contributors_enabled': False, 'is_translator': False, 'is_translation_enabled': False, 'profile_background_color': 'F5F8FA', 'profile_background_image_url': None, 'profile_background_image_url_https': None, 'profile_background_tile': False, 'profile_image_url': 'http://pbs.twimg.com/profile_images/976595865694605312/1n-str9j_normal.jpg', 'profile_image_url_https': 'https://pbs.twimg.com/profile_images/976595865694605312/1n-str9j_normal.jpg', 'profile_banner_url': 'https://pbs.twimg.com/profile_banners/967928034304122880/1521674169', 'profile_link_color': '1DA1F2', 'profile_sidebar_border_color': 'C0DEED', 'profile_sidebar_fill_color': 'DDEEF6', 'profile_text_color': '333333', 'profile_use_background_image': True, 'has_extended_profile': True, 'default_profile': True, 'default_profile_image': False, 'following': False, 'follow_request_sent': False, 'notifications': False, 'translator_type': 'none'}, 'geo': None, 'coordinates': None, 'place': None, 'contributors': None, 'is_quote_status': False, 'retweet_count': 0, 'favorite_count': 0, 'favorited': False, 'retweeted': False, 'possibly_sensitive': True, 'lang': 'pt'}]\n"
     ]
    }
   ],
   "source": [
    "print(result_hashtag['statuses'])"
   ]
  },
  {
   "cell_type": "markdown",
   "metadata": {},
   "source": [
    "O nosso foco nessa primiera parte é ver os dados associados a cada twitter retornado pela busca. Por conta disso, vamos trabalhar com o **statuses**. O *statuses* é uma lista de tweets. No entanto, a busca retorna toda a estrutura relacionada ao tweet e não somente o texto. A lista completa do que a busca retorna pode ser encontrada na documentação do twitter já linkada anteriormente.\n",
    "\n",
    "Vamos exibir o texto dos tweets coletados:"
   ]
  },
  {
   "cell_type": "code",
   "execution_count": 9,
   "metadata": {
    "scrolled": true
   },
   "outputs": [
    {
     "name": "stdout",
     "output_type": "stream",
     "text": [
      "992051106162401280\n",
      "RT @unicorndoreuri: Hugo e Rui: A \n",
      "Eu: lindíssimos, cozinharam muito!\n",
      "#MasterChefBR https://t.co/Hvh9tztAwm\n",
      "992050794835914752\n",
      "RT @masterchefbr: Te chamam pra sair e você precisa falar o quanto de dinheiro tem sobrando para os rolês. #MasterChefBR https://t.co/gNmgf…\n",
      "992050441067356160\n",
      "RT @ailathanathalia: #MasterChefBR Baguncei a aula toda no começo do bimestre// preciso de nota https://t.co/TWChKjfEyQ\n",
      "992050344933904386\n",
      "Quando alguém fala mal da mamãe @RitaMChef \n",
      "#MasterChefBR #masterchef https://t.co/wbFHapZo3C\n",
      "992049288481067009\n",
      "ícone acessível #MasterChefBR https://t.co/LEhLtys1Rt\n"
     ]
    }
   ],
   "source": [
    "tweets = result_hashtag['statuses']\n",
    "\n",
    "for tweet in tweets:\n",
    "    print(tweet['id'])\n",
    "    print(tweet['text'])"
   ]
  },
  {
   "cell_type": "markdown",
   "metadata": {},
   "source": [
    "Cade tweet possui um *id* que o identifica unicamente. Essa informação é útil caso não queira coletar tweets repetidos. No entanto, RT são considerados tweets distintos. \n",
    "\n",
    "A busca também retorna informações sobre o usuário que postou tal tweet. O campo *user* retorna uma instância de usuário do tweet conforme documentação disponível em: https://dev.twitter.com/overview/api/users. Como exemplo vamos utilizar o primeir tweet coletado na busca anterior. "
   ]
  },
  {
   "cell_type": "code",
   "execution_count": 10,
   "metadata": {
    "scrolled": true
   },
   "outputs": [
    {
     "name": "stdout",
     "output_type": "stream",
     "text": [
      "{'id': 190416667, 'id_str': '190416667', 'name': 'Thaynara', 'screen_name': 'thaylights', 'location': '@thaylights  everywhere', 'description': 'Conhecê-lo para torná-lo conhecido. ✝️💕', 'url': 'https://t.co/ypVCmjQN7m', 'entities': {'url': {'urls': [{'url': 'https://t.co/ypVCmjQN7m', 'expanded_url': 'https://twitter.com/justinbieber/status/242791613586350080', 'display_url': 'twitter.com/justinbieber/s…', 'indices': [0, 23]}]}, 'description': {'urls': []}}, 'protected': False, 'followers_count': 1445, 'friends_count': 943, 'listed_count': 23, 'created_at': 'Mon Sep 13 22:17:11 +0000 2010', 'favourites_count': 6606, 'utc_offset': -10800, 'time_zone': 'Atlantic Time (Canada)', 'geo_enabled': True, 'verified': False, 'statuses_count': 56799, 'lang': 'pt', 'contributors_enabled': False, 'is_translator': False, 'is_translation_enabled': True, 'profile_background_color': 'FFFFFF', 'profile_background_image_url': 'http://pbs.twimg.com/profile_background_images/628625157238726656/Pc4O3F2H.png', 'profile_background_image_url_https': 'https://pbs.twimg.com/profile_background_images/628625157238726656/Pc4O3F2H.png', 'profile_background_tile': False, 'profile_image_url': 'http://pbs.twimg.com/profile_images/814200896032821249/nal9nFYJ_normal.jpg', 'profile_image_url_https': 'https://pbs.twimg.com/profile_images/814200896032821249/nal9nFYJ_normal.jpg', 'profile_banner_url': 'https://pbs.twimg.com/profile_banners/190416667/1480049095', 'profile_link_color': 'F5ABB5', 'profile_sidebar_border_color': '000000', 'profile_sidebar_fill_color': 'FFFCFD', 'profile_text_color': '0EEAF2', 'profile_use_background_image': True, 'has_extended_profile': True, 'default_profile': False, 'default_profile_image': False, 'following': False, 'follow_request_sent': False, 'notifications': False, 'translator_type': 'regular'}\n"
     ]
    }
   ],
   "source": [
    "first_tweet = tweets[0]\n",
    "\n",
    "user_ = first_tweet['user']\n",
    "\n",
    "print(user_)"
   ]
  },
  {
   "cell_type": "markdown",
   "metadata": {},
   "source": [
    "Selecionando alguns campos, temos:"
   ]
  },
  {
   "cell_type": "code",
   "execution_count": 11,
   "metadata": {
    "scrolled": false
   },
   "outputs": [
    {
     "name": "stdout",
     "output_type": "stream",
     "text": [
      "190416667\n",
      "Thaynara\n",
      "thaylights\n",
      "Conhecê-lo para torná-lo conhecido. ✝️💕\n",
      "http://pbs.twimg.com/profile_images/814200896032821249/nal9nFYJ_normal.jpg\n"
     ]
    }
   ],
   "source": [
    "print(user_['id']) #id do usuário\n",
    "print(user_['name']) #nome do usuário\n",
    "print(user_['screen_name']) #username do usuário\n",
    "print(user_['description']) #descrição do perfil\n",
    "print(user_['profile_image_url']) #url da imagem do perfil"
   ]
  },
  {
   "cell_type": "markdown",
   "metadata": {},
   "source": [
    "É possível coletar também a timeline de um determinado usuário:"
   ]
  },
  {
   "cell_type": "code",
   "execution_count": 12,
   "metadata": {
    "scrolled": true
   },
   "outputs": [
    {
     "name": "stdout",
     "output_type": "stream",
     "text": [
      "Só mais um teste #minicursotwitterludiico\n",
      "RT @adolfoguimaraes: Amanhã tem minicurso #minicursotwitterludiico\n",
      "Amanhã tem minicurso #minicursotwitterludiico\n",
      "(pt-br and english post) Essa é mais uma atividade do curso de Fundamentos de Programação em… https://t.co/15m4j60LKj\n",
      "(pt-br and english posts) Que tal começar a coletar dados do twitter em 1 minuto? Twython +… https://t.co/PVhB4SXNzd\n",
      "Já já começa a #congenti na @unit_br 😊\n",
      "É neste sábado: #feivest na @unit_br. Estaremos lá mostrando um pouco dos cursos de computação ;)\n",
      "@jonh_paulo muito interessante. Só o texto que podia ter algumas informações mais técnicas ou pelo menos o link para o artigo =/\n",
      "Sério q tem um Twitter da vuvuzela kkkkkkkkkkk https://t.co/z5lkHHMr0v\n",
      "GO GO Power Rangers :P  https://t.co/ToUPVHhaa0\n",
      "Qual o propósito dessa briga??? Kkkkk https://t.co/rBRG0NzIBE\n",
      "Infográfico interessante sobre Data Science :P https://t.co/oAtlQp6wra\n",
      "RT @exame: Nanotecnologia e big data podem revolucionar medicina &gt; https://t.co/hsL0wr4Mmn https://t.co/gm5yfK4FNg\n",
      "Para quem quer começar na área: https://t.co/Kgi4TFm9Gw via @dsacademybr\n",
      "Você namora a pessoa e ela vive cantando Metallica, Guns. Você casa, a pessoa tá cantando \"Molejao\" no carro 😒\n",
      "Quem vence as disputas das hashtags: #teamsuperman vs #teambatman | #teamcap vs #teamironman? https://t.co/Fqt64OWEMm #coletandodados ;)\n",
      "Quero ver tiririca votando. Será que vai ser algo do tipo: \"Meu voto é nãooooo. É mentiraaaa, enganeeeeeiiiii vocêÊÊÊÊ. Meu voto é sim\"\n",
      "@pablo_regis kkk bem lembrado .... Vai ser complicado\n",
      "Ótima analogia sobre os limites que querem colocar na internet fixa https://t.co/9HW9WdX13r\n",
      "Para quem vai para FEIVEST amanhã, não deixe registrar sua visita. Poste nas redes sociais usando as hashtags #feivest e #feivestcomp.\n"
     ]
    }
   ],
   "source": [
    "tw_timeline = tw.get_user_timeline(screen_name=\"@adolfoguimaraes\")\n",
    "\n",
    "for tweet in tw_timeline:\n",
    "    print(tweet['text'])"
   ]
  },
  {
   "cell_type": "markdown",
   "metadata": {},
   "source": [
    "Observe que neste caso da timeline, a API só retorna a lista de tweets.\n",
    "\n",
    "A API permite também coletar informações cadastradas no perfil do usuário. O método `show_user` retorna uma instância de usuário o do twitter. "
   ]
  },
  {
   "cell_type": "code",
   "execution_count": 13,
   "metadata": {
    "scrolled": true
   },
   "outputs": [
    {
     "name": "stdout",
     "output_type": "stream",
     "text": [
      "20678688\n",
      "Adolfo Guimarães\n",
      "adolfoguimaraes\n",
      "🌍Brazilian \n",
      "📚Computer Science: professor and researcher \n",
      "💻#pyhon developer \n",
      "❤ Artificial Intelligence \n",
      "👊Technology for society\n",
      "http://pbs.twimg.com/profile_images/649939979553144832/VrYxkBov_normal.jpg\n"
     ]
    }
   ],
   "source": [
    "tw_user = tw.show_user(screen_name=\"@adolfoguimaraes\")\n",
    "\n",
    "print(tw_user['id']) #id do usuário\n",
    "print(tw_user['name']) #nome do usuário\n",
    "print(tw_user['screen_name']) #username do usuário\n",
    "print(tw_user['description']) #descrição do perfil\n",
    "print(tw_user['profile_image_url']) #url da imagem do perfil"
   ]
  },
  {
   "cell_type": "markdown",
   "metadata": {},
   "source": [
    "A lista completa dos métodos do Twython pode ser encontrada na documentação da API disponível em: https://twython.readthedocs.io/en/latest/index.html\n",
    "\n",
    "Com esses passos básicos já é possível coletar informações de textos do twitter e dos usuários que postam o conteúdo. Explore a documentação do Twitter e do Twython para criar outros exemplos. Na segunda parte, vamos explorar mais algumas funcionalidades interessantes da API."
   ]
  }
 ],
 "metadata": {
  "kernelspec": {
   "display_name": "Python 3",
   "language": "python",
   "name": "python3"
  },
  "language_info": {
   "codemirror_mode": {
    "name": "ipython",
    "version": 3
   },
   "file_extension": ".py",
   "mimetype": "text/x-python",
   "name": "python",
   "nbconvert_exporter": "python",
   "pygments_lexer": "ipython3",
   "version": "3.6.0"
  }
 },
 "nbformat": 4,
 "nbformat_minor": 2
}
