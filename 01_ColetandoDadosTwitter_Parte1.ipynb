{
  "nbformat": 4,
  "nbformat_minor": 0,
  "metadata": {
    "colab": {
      "name": "01_ColetandoDadosTwitter_Parte1.ipynb",
      "version": "0.3.2",
      "provenance": []
    },
    "kernelspec": {
      "display_name": "Python 3",
      "language": "python",
      "name": "python3"
    }
  },
  "cells": [
    {
      "metadata": {
        "id": "io_Ed8brQw9J",
        "colab_type": "code",
        "colab": {}
      },
      "cell_type": "code",
      "source": [
        "# Instalação de pacotes necessários\n",
        "\n",
        "!pip install twython"
      ],
      "execution_count": 0,
      "outputs": []
    },
    {
      "metadata": {
        "id": "RRkBCPI5Qw9W",
        "colab_type": "code",
        "colab": {}
      },
      "cell_type": "code",
      "source": [
        "import nltk\n",
        "nltk.download()"
      ],
      "execution_count": 0,
      "outputs": []
    },
    {
      "metadata": {
        "id": "O1uupJTMQw9i",
        "colab_type": "text"
      },
      "cell_type": "markdown",
      "source": [
        "# O que o twitter está pensando?\n",
        "\n",
        "# Extraindo informações em redes sociais utilizando Python\n",
        "\n",
        "`> por: `[@profadolfoguimaraes](http://www.twitter.com/profadolfoguimaraes)\n",
        "\n",
        "Estes tutoriais apresentam os principais scritps desenvolvidos no minicurso: **O que o twitter está pensando? Extraindo informações em redes sociais utilizando Python**. O conteúdo está dividio em dois repositórios: (1) [d2l-minicursotwitter-notebook](http://github.com/adolfoguimaraes/d2l-minicursotwitter-notebook) que possui estes notebooks e (2) [d2l-minicursotwitter-web](http://github.com/adolfoguimaraes/d2l-minicursotwitter-web) que possui a página web desenvolvida.\n",
        "\n",
        "O material completo do minicurso pode ser encontrado em: http://www.data2learning.com/cursos.\n",
        "\n",
        "## 01 - Coletando Dados do Twitter (Parte 1)\n",
        "\n",
        "Na primeira parte do nosso curso vamos mostrar como utilizar uma API do twitter para coletar dados publicados na rede social. Para poder utilizar a API é necessário criar uma aplicação no site http://dev.twitter.com/apps. Após a criação da APP deve-se criar também um `Access Token` na mesma página. Detalhes de como fazer isso estão disponíveis nos slides na página do curso linkada anteriormente. \n",
        "\n",
        "Para coletar as informações do twitter, vamos utilizar a API em python **Twython** (https://twython.readthedocs.io/en/latest/). Antes de começar devemos instala utilizando o comando **pip install twython** no console. Se você já instalou a partir do arquivo `requirements.txt` não é mais necessário instalar. \n",
        "\n",
        "Com todos estes passos concluídos podemos executar a primeira parte deste minicurso."
      ]
    },
    {
      "metadata": {
        "id": "P_CZYt0kQw9k",
        "colab_type": "text"
      },
      "cell_type": "markdown",
      "source": [
        "O primiero passo é importar as bibliotecas necessárias. No nosso caso, iremos importar a biblioteca do Twython e uma biblioteca para trabalhar com data e hora."
      ]
    },
    {
      "metadata": {
        "id": "q6pflZw9Qw9m",
        "colab_type": "code",
        "colab": {}
      },
      "cell_type": "code",
      "source": [
        "from twython import Twython\n",
        "from datetime import datetime"
      ],
      "execution_count": 0,
      "outputs": []
    },
    {
      "metadata": {
        "id": "tKaAKBDiQw9s",
        "colab_type": "text"
      },
      "cell_type": "markdown",
      "source": [
        "Em seguida devemos informar as chaves necessárias da API do twitter. Estas chaves foram geradas no momento da criação da app no site listado anteriormente. Substitua o `None` com as chaves geradas na sua conta."
      ]
    },
    {
      "metadata": {
        "id": "oKWZDvFwQw9u",
        "colab_type": "code",
        "colab": {}
      },
      "cell_type": "code",
      "source": [
        "#Definição das chaves da API do Twitter\n",
        "consumer_key = None # Get Keys and Access Token at apps.twitter.com\n",
        "consumer_secret = None # Get Keys and Access Token at apps.twitter.com\n",
        "access_token = None # Get Keys and Access Token at apps.twitter.com\n",
        "access_token_secret = None # Get Keys and Access Token at apps.twitter.com"
      ],
      "execution_count": 0,
      "outputs": []
    },
    {
      "metadata": {
        "id": "2cgXjs5VQw92",
        "colab_type": "text"
      },
      "cell_type": "markdown",
      "source": [
        "Em seguida, vamos criar uma instância da api Twython para que possamos utilizar os métodos de busca."
      ]
    },
    {
      "metadata": {
        "id": "wnKQbaSTQw94",
        "colab_type": "code",
        "colab": {}
      },
      "cell_type": "code",
      "source": [
        "tw = Twython(consumer_key, consumer_secret, access_token, access_token_secret)"
      ],
      "execution_count": 0,
      "outputs": []
    },
    {
      "metadata": {
        "id": "_WHiMgfKQw9-",
        "colab_type": "text"
      },
      "cell_type": "markdown",
      "source": [
        "O primeiro método que iremos utilizar para coletar as informações é o `search`. Ele permite coletar uma quantidade específica de tweets a partir de uma query de busca. Essa query pode ser uma #hashtag ou uma palavra qualquer.\n",
        "\n",
        "Detalhes sobre os parâmetros e os valores de retorno do método `search` podem ser encontrados na página da API do twitter: https://dev.twitter.com/rest/reference/get/search/tweets. Nesse exemplo inicial vamos utilizar apenas três parâmetros: \n",
        "\n",
        "* **q:** query de busca\n",
        "* **count:** o número de tweets que serão retornados\n",
        "* **lang:** o idioma dos tweets retornados\n",
        "\n",
        "`Para facilitar a visualização foi coletado apenas 1 twitter. Modifique o valor para coletar mais`"
      ]
    },
    {
      "metadata": {
        "id": "l0dmHgyeQw-A",
        "colab_type": "code",
        "colab": {}
      },
      "cell_type": "code",
      "source": [
        "result = tw.search(q=\"brasil\",count=1,lang=\"pt\")"
      ],
      "execution_count": 0,
      "outputs": []
    },
    {
      "metadata": {
        "id": "U8SY4OSOQw-H",
        "colab_type": "code",
        "colab": {}
      },
      "cell_type": "code",
      "source": [
        "#Isso irá imprimir no console o resultado armazenado na variável result\n",
        "print(result)"
      ],
      "execution_count": 0,
      "outputs": []
    },
    {
      "metadata": {
        "id": "ih04Y1z_Qw-P",
        "colab_type": "text"
      },
      "cell_type": "markdown",
      "source": [
        "A variável **result** irá armazenar os `n` últimos tweets postados que possuem a palavra **brasil** no texto e que estão em português. Sendo `n` o valor passado no parâmetro `count`. Mais detalhes dos parâmetros que podem ser utilizados com o método *search* podem ser encontrados na documentação para desenvolvedores twitter: https://dev.twitter.com/rest/reference/get/search/tweets.\n",
        "\n",
        "A **query** de busca utiliza os mesmos critérios de busca do twitter. Podemos buscar por hashtag ou ainda pela combinação de várias palavras. Uma lista dos comandos que podem ser passados pela query pode ser encontrada neste link: https://dev.twitter.com/rest/public/search.\n",
        "\n",
        "Segue alguns exemplos:"
      ]
    },
    {
      "metadata": {
        "id": "clYAQ5UqQw-T",
        "colab_type": "code",
        "colab": {}
      },
      "cell_type": "code",
      "source": [
        "result_hashtag = tw.search(q=\"#MasterChefBR\", count=5, lang=\"pt\")\n",
        "result_multi = tw.search(q=\"#MasterChefBR OR #MasterChef\", count=100, lang=\"pt\")"
      ],
      "execution_count": 0,
      "outputs": []
    },
    {
      "metadata": {
        "id": "7lWrhG1CQw-Z",
        "colab_type": "text"
      },
      "cell_type": "markdown",
      "source": [
        "Nos exemplos a seguir vamos trabalhar com a variável`result_hashtag` que armazenou 5 tweets com a `hashtag` `#MasterChefBR`. \n",
        "\n",
        "A busca retorna um dicionário com dois campos:\n",
        "\n",
        "* **search_metadata:** metadados da busca\n",
        "* **statuses:** os tweets que foram coletados\n",
        "\n",
        "Podemos imprimir tais informações utilizando os comandos a seguir:\n"
      ]
    },
    {
      "metadata": {
        "scrolled": true,
        "id": "FKBG-mmNQw-b",
        "colab_type": "code",
        "colab": {}
      },
      "cell_type": "code",
      "source": [
        "print(result_hashtag['search_metadata'])"
      ],
      "execution_count": 0,
      "outputs": []
    },
    {
      "metadata": {
        "id": "ASrSNTMRQw-g",
        "colab_type": "code",
        "colab": {}
      },
      "cell_type": "code",
      "source": [
        "print(result_hashtag['statuses'])"
      ],
      "execution_count": 0,
      "outputs": []
    },
    {
      "metadata": {
        "id": "D1oqqOhmQw-k",
        "colab_type": "text"
      },
      "cell_type": "markdown",
      "source": [
        "O nosso foco nessa primiera parte é ver os dados associados a cada twitter retornado pela busca. Por conta disso, vamos trabalhar com o **statuses**. O *statuses* é uma lista de tweets. No entanto, a busca retorna toda a estrutura relacionada ao tweet e não somente o texto. A lista completa do que a busca retorna pode ser encontrada na documentação do twitter já linkada anteriormente.\n",
        "\n",
        "Vamos exibir o texto dos tweets coletados:"
      ]
    },
    {
      "metadata": {
        "scrolled": true,
        "id": "kiM_MXlCQw-l",
        "colab_type": "code",
        "colab": {}
      },
      "cell_type": "code",
      "source": [
        "tweets = result_hashtag['statuses']\n",
        "\n",
        "for tweet in tweets:\n",
        "    print(tweet['id'])\n",
        "    print(tweet['text'])"
      ],
      "execution_count": 0,
      "outputs": []
    },
    {
      "metadata": {
        "id": "YjU0jiPmQw-p",
        "colab_type": "text"
      },
      "cell_type": "markdown",
      "source": [
        "Cade tweet possui um *id* que o identifica unicamente. Essa informação é útil caso não queira coletar tweets repetidos. No entanto, RT são considerados tweets distintos. \n",
        "\n",
        "A busca também retorna informações sobre o usuário que postou tal tweet. O campo *user* retorna uma instância de usuário do tweet conforme documentação disponível em: https://dev.twitter.com/overview/api/users. Como exemplo vamos utilizar o primeir tweet coletado na busca anterior. "
      ]
    },
    {
      "metadata": {
        "scrolled": true,
        "id": "FtQVoPusQw-p",
        "colab_type": "code",
        "colab": {}
      },
      "cell_type": "code",
      "source": [
        "first_tweet = tweets[0]\n",
        "\n",
        "user_ = first_tweet['user']\n",
        "\n",
        "print(user_)"
      ],
      "execution_count": 0,
      "outputs": []
    },
    {
      "metadata": {
        "id": "dvq-_EHzQw-t",
        "colab_type": "text"
      },
      "cell_type": "markdown",
      "source": [
        "Selecionando alguns campos, temos:"
      ]
    },
    {
      "metadata": {
        "scrolled": false,
        "id": "euovK_RrQw-v",
        "colab_type": "code",
        "colab": {}
      },
      "cell_type": "code",
      "source": [
        "print(user_['id']) #id do usuário\n",
        "print(user_['name']) #nome do usuário\n",
        "print(user_['screen_name']) #username do usuário\n",
        "print(user_['description']) #descrição do perfil\n",
        "print(user_['profile_image_url']) #url da imagem do perfil"
      ],
      "execution_count": 0,
      "outputs": []
    },
    {
      "metadata": {
        "id": "5f55cP1sQw-y",
        "colab_type": "text"
      },
      "cell_type": "markdown",
      "source": [
        "É possível coletar também a timeline de um determinado usuário:"
      ]
    },
    {
      "metadata": {
        "scrolled": true,
        "id": "43oiyBvtQw-2",
        "colab_type": "code",
        "colab": {}
      },
      "cell_type": "code",
      "source": [
        "tw_timeline = tw.get_user_timeline(screen_name=\"@adolfoguimaraes\")\n",
        "\n",
        "for tweet in tw_timeline:\n",
        "    print(tweet['text'])"
      ],
      "execution_count": 0,
      "outputs": []
    },
    {
      "metadata": {
        "id": "hI5M8RO-Qw-_",
        "colab_type": "text"
      },
      "cell_type": "markdown",
      "source": [
        "Observe que neste caso da timeline, a API só retorna a lista de tweets.\n",
        "\n",
        "A API permite também coletar informações cadastradas no perfil do usuário. O método `show_user` retorna uma instância de usuário o do twitter. "
      ]
    },
    {
      "metadata": {
        "scrolled": true,
        "id": "Io-0gU2AQw-_",
        "colab_type": "code",
        "colab": {}
      },
      "cell_type": "code",
      "source": [
        "tw_user = tw.show_user(screen_name=\"@adolfoguimaraes\")\n",
        "\n",
        "print(tw_user['id']) #id do usuário\n",
        "print(tw_user['name']) #nome do usuário\n",
        "print(tw_user['screen_name']) #username do usuário\n",
        "print(tw_user['description']) #descrição do perfil\n",
        "print(tw_user['profile_image_url']) #url da imagem do perfil"
      ],
      "execution_count": 0,
      "outputs": []
    },
    {
      "metadata": {
        "id": "ehAthHoBQw_F",
        "colab_type": "text"
      },
      "cell_type": "markdown",
      "source": [
        "A lista completa dos métodos do Twython pode ser encontrada na documentação da API disponível em: https://twython.readthedocs.io/en/latest/index.html\n",
        "\n",
        "Com esses passos básicos já é possível coletar informações de textos do twitter e dos usuários que postam o conteúdo. Explore a documentação do Twitter e do Twython para criar outros exemplos. Na segunda parte, vamos explorar mais algumas funcionalidades interessantes da API."
      ]
    }
  ]
}