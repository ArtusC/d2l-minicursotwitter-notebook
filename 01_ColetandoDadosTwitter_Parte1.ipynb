{
 "cells": [
  {
   "cell_type": "markdown",
   "metadata": {},
   "source": [
    "# O que o twitter está pensando?\n",
    "\n",
    "# Extraindo informações em redes sociais utilizando Python\n",
    "\n",
    "`> por: `[@profadolfoguimaraes](http://www.twitter.com/profadolfoguimaraes)\n",
    "\n",
    "Estes tutoriais apresentam os principais scritps desenvolvidos no minicurso: **O que o twitter está pensando? Extraindo informações em redes sociais utilizando Python**. O conteúdo está dividio em dois repositórios: (1) [d2l-minicursotwitter-notebook](http://github.com/adolfoguimaraes/d2l-minicursotwitter-notebook) que possui estes notebooks e (2) [d2l-minicursotwitter-web](http://github.com/adolfoguimaraes/d2l-minicursotwitter-web) que possui a página web desenvolvida.\n",
    "\n",
    "O material completo do minicurso pode ser encontrado em: http://www.data2learning.com/cursos.\n",
    "\n",
    "## 01 - Coletando Dados do Twitter (Parte 1)\n",
    "\n",
    "Na primeira parte do nosso curso vamos mostrar como utilizar uma API do twitter para coletar dados publicados na rede social. Para poder utilizar a API é necessário criar uma aplicação no site http://dev.twitter.com/apps. Após a criação da APP deve-se criar também um `Access Token` na mesma página. Detalhes de como fazer isso estão disponíveis nos slides na página do curso linkada anteriormente. \n",
    "\n",
    "Para coletar as informações do twitter, vamos utilizar a API em python **Twython** (https://twython.readthedocs.io/en/latest/). Antes de começar devemos instala utilizando o comando **pip install twython** no console. Se você já instalou a partir do arquivo `requirements.txt` não é mais necessário instalar. \n",
    "\n",
    "Com todos estes passos concluídos podemos executar a primeira parte deste minicurso."
   ]
  },
  {
   "cell_type": "markdown",
   "metadata": {},
   "source": [
    "O primiero passo é importar as bibliotecas necessárias. No nosso caso, iremos importar a biblioteca do Twython e uma biblioteca para trabalhar com data e hora."
   ]
  },
  {
   "cell_type": "code",
   "execution_count": 1,
   "metadata": {},
   "outputs": [],
   "source": [
    "from twython import Twython\n",
    "from datetime import datetime"
   ]
  },
  {
   "cell_type": "markdown",
   "metadata": {},
   "source": [
    "Em seguida devemos informar as chaves necessárias da API do twitter. Estas chaves foram geradas no momento da criação da app no site listado anteriormente. Substitua o `None` com as chaves geradas na sua conta."
   ]
  },
  {
   "cell_type": "code",
   "execution_count": 16,
   "metadata": {
    "collapsed": true
   },
   "outputs": [],
   "source": [
    "#Definição das chaves da API do Twitter\n",
    "APP_KEY = None # Get Keys and Access Token at apps.twitter.com\n",
    "APP_SECRET = None # Get Keys and Access Token at apps.twitter.com\n",
    "OAUTH_TOKEN = None # Get Keys and Access Token at apps.twitter.com\n",
    "OAUTH_TOKEN_SECRET = None # Get Keys and Access Token at apps.twitter.com"
   ]
  },
  {
   "cell_type": "markdown",
   "metadata": {},
   "source": [
    "Em seguida, vamos criar uma instância da api Twython para que possamos utilizar os métodos de busca."
   ]
  },
  {
   "cell_type": "code",
   "execution_count": 3,
   "metadata": {
    "collapsed": true
   },
   "outputs": [],
   "source": [
    "tw = Twython(APP_KEY, APP_SECRET, OAUTH_TOKEN, OAUTH_TOKEN_SECRET)"
   ]
  },
  {
   "cell_type": "markdown",
   "metadata": {},
   "source": [
    "O primeiro método que iremos utilizar para coletar as informações é o `search`. Ele permite coletar uma quantidade específica de tweets a partir de uma query de busca. Essa query pode ser uma #hashtag ou uma palavra qualquer.\n",
    "\n",
    "Detalhes sobre os parâmetros e os valores de retorno do método `search` podem ser encontrados na página da API do twitter: https://dev.twitter.com/rest/reference/get/search/tweets. Nesse exemplo inicial vamos utilizar apenas três parâmetros: \n",
    "\n",
    "* **q:** query de busca\n",
    "* **count:** o número de tweets que serão retornados\n",
    "* **lang:** o idioma dos tweets retornados\n",
    "\n",
    "`Para facilitar a visualização foi coletado apenas 1 twitter. Modifique o valor para coletar mais`"
   ]
  },
  {
   "cell_type": "code",
   "execution_count": 4,
   "metadata": {
    "collapsed": true
   },
   "outputs": [],
   "source": [
    "result = tw.search(q=\"brasil\",count=1,lang=\"pt\")"
   ]
  },
  {
   "cell_type": "code",
   "execution_count": 5,
   "metadata": {},
   "outputs": [
    {
     "name": "stdout",
     "output_type": "stream",
     "text": [
      "{'statuses': [{'created_at': 'Thu May 03 10:20:56 +0000 2018', 'id': 991985956499677184, 'id_str': '991985956499677184', 'text': 'RT @danielpachecco: o brasil que eu quero é um brasil sem rinite alérgica', 'truncated': False, 'entities': {'hashtags': [], 'symbols': [], 'user_mentions': [{'screen_name': 'danielpachecco', 'name': 'daniel', 'id': 3356179389, 'id_str': '3356179389', 'indices': [3, 18]}], 'urls': []}, 'metadata': {'iso_language_code': 'pt', 'result_type': 'recent'}, 'source': '<a href=\"http://twitter.com/download/android\" rel=\"nofollow\">Twitter for Android</a>', 'in_reply_to_status_id': None, 'in_reply_to_status_id_str': None, 'in_reply_to_user_id': None, 'in_reply_to_user_id_str': None, 'in_reply_to_screen_name': None, 'user': {'id': 41161608, 'id_str': '41161608', 'name': 'ingrid', 'screen_name': 'ingridcampioni', 'location': 'Rio de Janeiro', 'description': 'que nunca nos falte fogo no cu', 'url': 'https://t.co/jd1rtiZNDD', 'entities': {'url': {'urls': [{'url': 'https://t.co/jd1rtiZNDD', 'expanded_url': 'http://ingridcampioni.tumblr.com', 'display_url': 'ingridcampioni.tumblr.com', 'indices': [0, 23]}]}, 'description': {'urls': []}}, 'protected': False, 'followers_count': 415, 'friends_count': 414, 'listed_count': 6, 'created_at': 'Tue May 19 17:24:43 +0000 2009', 'favourites_count': 9393, 'utc_offset': -10800, 'time_zone': 'Brasilia', 'geo_enabled': True, 'verified': False, 'statuses_count': 30594, 'lang': 'pt', 'contributors_enabled': False, 'is_translator': False, 'is_translation_enabled': False, 'profile_background_color': 'FFF7C0', 'profile_background_image_url': 'http://pbs.twimg.com/profile_background_images/378800000152777089/woMGBYbw.png', 'profile_background_image_url_https': 'https://pbs.twimg.com/profile_background_images/378800000152777089/woMGBYbw.png', 'profile_background_tile': True, 'profile_image_url': 'http://pbs.twimg.com/profile_images/987931326941749248/iUeh1pFp_normal.jpg', 'profile_image_url_https': 'https://pbs.twimg.com/profile_images/987931326941749248/iUeh1pFp_normal.jpg', 'profile_banner_url': 'https://pbs.twimg.com/profile_banners/41161608/1489707493', 'profile_link_color': 'F9B377', 'profile_sidebar_border_color': 'FFFFFF', 'profile_sidebar_fill_color': 'A94381', 'profile_text_color': 'FC327D', 'profile_use_background_image': True, 'has_extended_profile': True, 'default_profile': False, 'default_profile_image': False, 'following': False, 'follow_request_sent': False, 'notifications': False, 'translator_type': 'none'}, 'geo': None, 'coordinates': None, 'place': None, 'contributors': None, 'retweeted_status': {'created_at': 'Wed May 02 01:04:35 +0000 2018', 'id': 991483558232559617, 'id_str': '991483558232559617', 'text': 'o brasil que eu quero é um brasil sem rinite alérgica', 'truncated': False, 'entities': {'hashtags': [], 'symbols': [], 'user_mentions': [], 'urls': []}, 'metadata': {'iso_language_code': 'pt', 'result_type': 'recent'}, 'source': '<a href=\"http://twitter.com\" rel=\"nofollow\">Twitter Web Client</a>', 'in_reply_to_status_id': None, 'in_reply_to_status_id_str': None, 'in_reply_to_user_id': None, 'in_reply_to_user_id_str': None, 'in_reply_to_screen_name': None, 'user': {'id': 3356179389, 'id_str': '3356179389', 'name': 'daniel', 'screen_name': 'danielpachecco', 'location': 'Florianópolis, SC', 'description': 'habitante do país twitter danielraulpacheco@gmail.com', 'url': 'https://t.co/xeqVwAUt0f', 'entities': {'url': {'urls': [{'url': 'https://t.co/xeqVwAUt0f', 'expanded_url': 'https://www.instagram.com/danielpachecco', 'display_url': 'instagram.com/danielpachecco', 'indices': [0, 23]}]}, 'description': {'urls': []}}, 'protected': False, 'followers_count': 97585, 'friends_count': 471, 'listed_count': 219, 'created_at': 'Fri Jul 03 04:44:07 +0000 2015', 'favourites_count': 3975, 'utc_offset': -25200, 'time_zone': 'Pacific Time (US & Canada)', 'geo_enabled': False, 'verified': False, 'statuses_count': 5024, 'lang': 'pt', 'contributors_enabled': False, 'is_translator': False, 'is_translation_enabled': False, 'profile_background_color': 'ABB8C2', 'profile_background_image_url': 'http://abs.twimg.com/images/themes/theme1/bg.png', 'profile_background_image_url_https': 'https://abs.twimg.com/images/themes/theme1/bg.png', 'profile_background_tile': True, 'profile_image_url': 'http://pbs.twimg.com/profile_images/943989570202370051/yGI5eLrI_normal.jpg', 'profile_image_url_https': 'https://pbs.twimg.com/profile_images/943989570202370051/yGI5eLrI_normal.jpg', 'profile_banner_url': 'https://pbs.twimg.com/profile_banners/3356179389/1513727174', 'profile_link_color': '27408B', 'profile_sidebar_border_color': '000000', 'profile_sidebar_fill_color': '000000', 'profile_text_color': '000000', 'profile_use_background_image': False, 'has_extended_profile': True, 'default_profile': False, 'default_profile_image': False, 'following': False, 'follow_request_sent': False, 'notifications': False, 'translator_type': 'regular'}, 'geo': None, 'coordinates': None, 'place': None, 'contributors': None, 'is_quote_status': False, 'retweet_count': 22193, 'favorite_count': 19798, 'favorited': False, 'retweeted': False, 'lang': 'pt'}, 'is_quote_status': False, 'retweet_count': 22193, 'favorite_count': 0, 'favorited': False, 'retweeted': False, 'lang': 'pt'}], 'search_metadata': {'completed_in': 0.027, 'max_id': 991985956499677184, 'max_id_str': '991985956499677184', 'next_results': '?max_id=991985956499677183&q=brasil&lang=pt&count=1&include_entities=1', 'query': 'brasil', 'refresh_url': '?since_id=991985956499677184&q=brasil&lang=pt&include_entities=1', 'count': 1, 'since_id': 0, 'since_id_str': '0'}}\n"
     ]
    }
   ],
   "source": [
    "#Isso irá imprimir no console o resultado armazenado na variável result\n",
    "print(result)"
   ]
  },
  {
   "cell_type": "markdown",
   "metadata": {},
   "source": [
    "A variável **result** irá armazenar os `n` últimos tweets postados que possuem a palavra **brasil** no texto e que estão em português. Sendo `n` o valor passado no parâmetro `count`. Mais detalhes dos parâmetros que podem ser utilizados com o método *search* podem ser encontrados na documentação para desenvolvedores twitter: https://dev.twitter.com/rest/reference/get/search/tweets.\n",
    "\n",
    "A **query** de busca utiliza os mesmos critérios de busca do twitter. Podemos buscar por hashtag ou ainda pela combinação de várias palavras. Uma lista dos comandos que podem ser passados pela query pode ser encontrada neste link: https://dev.twitter.com/rest/public/search.\n",
    "\n",
    "Segue alguns exemplos:"
   ]
  },
  {
   "cell_type": "code",
   "execution_count": 6,
   "metadata": {},
   "outputs": [],
   "source": [
    "result_hashtag = tw.search(q=\"#MasterChefBR\", count=5, lang=\"pt\")\n",
    "result_multi = tw.search(q=\"#MasterChefBR OR #MasterChef\", count=100, lang=\"pt\")"
   ]
  },
  {
   "cell_type": "markdown",
   "metadata": {},
   "source": [
    "Nos exemplos a seguir vamos trabalhar com a variável`result_hashtag` que armazenou 5 tweets com a `hashtag` `#MasterChefBR`. \n",
    "\n",
    "A busca retorna um dicionário com dois campos:\n",
    "\n",
    "* **search_metadata:** metadados da busca\n",
    "* **statuses:** os tweets que foram coletados\n",
    "\n",
    "Podemos imprimir tais informações utilizando os comandos a seguir:\n"
   ]
  },
  {
   "cell_type": "code",
   "execution_count": 15,
   "metadata": {
    "scrolled": true
   },
   "outputs": [
    {
     "name": "stdout",
     "output_type": "stream",
     "text": [
      "{'completed_in': 0.034, 'max_id': 991984461100273664, 'max_id_str': '991984461100273664', 'next_results': '?max_id=991982254091104255&q=%23MasterChefBR&lang=pt&count=5&include_entities=1', 'query': '%23MasterChefBR', 'refresh_url': '?since_id=991984461100273664&q=%23MasterChefBR&lang=pt&include_entities=1', 'count': 5, 'since_id': 0, 'since_id_str': '0'}\n"
     ]
    }
   ],
   "source": [
    "print(result_hashtag['search_metadata'])"
   ]
  },
  {
   "cell_type": "code",
   "execution_count": 8,
   "metadata": {},
   "outputs": [
    {
     "name": "stdout",
     "output_type": "stream",
     "text": [
      "[{'created_at': 'Thu May 03 10:15:00 +0000 2018', 'id': 991984461100273664, 'id_str': '991984461100273664', 'text': 'O Dia das Bruxas ainda tá longe, mas a @ClarisseMChef já entrou no clima. #MasterChefBR https://t.co/Tw7JjjA9pB', 'truncated': False, 'entities': {'hashtags': [{'text': 'MasterChefBR', 'indices': [74, 87]}], 'symbols': [], 'user_mentions': [{'screen_name': 'ClarisseMChef', 'name': 'Clarisse', 'id': 971872726863564801, 'id_str': '971872726863564801', 'indices': [39, 53]}], 'urls': [], 'media': [{'id': 991799368465420294, 'id_str': '991799368465420294', 'indices': [88, 111], 'media_url': 'http://pbs.twimg.com/amplify_video_thumb/991799368465420294/img/ifcBbmUqDhOKD-fw.jpg', 'media_url_https': 'https://pbs.twimg.com/amplify_video_thumb/991799368465420294/img/ifcBbmUqDhOKD-fw.jpg', 'url': 'https://t.co/Tw7JjjA9pB', 'display_url': 'pic.twitter.com/Tw7JjjA9pB', 'expanded_url': 'https://twitter.com/masterchefbr/status/991984461100273664/video/1', 'type': 'photo', 'sizes': {'thumb': {'w': 150, 'h': 150, 'resize': 'crop'}, 'medium': {'w': 1200, 'h': 675, 'resize': 'fit'}, 'small': {'w': 680, 'h': 383, 'resize': 'fit'}, 'large': {'w': 1280, 'h': 720, 'resize': 'fit'}}}]}, 'extended_entities': {'media': [{'id': 991799368465420294, 'id_str': '991799368465420294', 'indices': [88, 111], 'media_url': 'http://pbs.twimg.com/amplify_video_thumb/991799368465420294/img/ifcBbmUqDhOKD-fw.jpg', 'media_url_https': 'https://pbs.twimg.com/amplify_video_thumb/991799368465420294/img/ifcBbmUqDhOKD-fw.jpg', 'url': 'https://t.co/Tw7JjjA9pB', 'display_url': 'pic.twitter.com/Tw7JjjA9pB', 'expanded_url': 'https://twitter.com/masterchefbr/status/991984461100273664/video/1', 'type': 'video', 'sizes': {'thumb': {'w': 150, 'h': 150, 'resize': 'crop'}, 'medium': {'w': 1200, 'h': 675, 'resize': 'fit'}, 'small': {'w': 680, 'h': 383, 'resize': 'fit'}, 'large': {'w': 1280, 'h': 720, 'resize': 'fit'}}, 'video_info': {'aspect_ratio': [16, 9], 'duration_millis': 27027, 'variants': [{'bitrate': 320000, 'content_type': 'video/mp4', 'url': 'https://video.twimg.com/amplify_video/991799368465420294/vid/320x180/92-FHoxjK73m9IH1.mp4?tag=2'}, {'bitrate': 832000, 'content_type': 'video/mp4', 'url': 'https://video.twimg.com/amplify_video/991799368465420294/vid/640x360/J7S9w7NOunSuxYAU.mp4?tag=2'}, {'content_type': 'application/x-mpegURL', 'url': 'https://video.twimg.com/amplify_video/991799368465420294/pl/SHBtSyJ-4gcyudUJ.m3u8?tag=2'}, {'bitrate': 2176000, 'content_type': 'video/mp4', 'url': 'https://video.twimg.com/amplify_video/991799368465420294/vid/1280x720/HxcUhHaD6Po5bzF8.mp4?tag=2'}]}, 'additional_media_info': {'title': 'MasterChef Brasil | Episódio 09: Clarisse', 'description': '', 'embeddable': True, 'monetizable': False}}]}, 'metadata': {'iso_language_code': 'pt', 'result_type': 'recent'}, 'source': '<a href=\"https://studio.twitter.com\" rel=\"nofollow\">Media Studio</a>', 'in_reply_to_status_id': None, 'in_reply_to_status_id_str': None, 'in_reply_to_user_id': None, 'in_reply_to_user_id_str': None, 'in_reply_to_screen_name': None, 'user': {'id': 2598211989, 'id_str': '2598211989', 'name': 'MasterChef Brasil', 'screen_name': 'masterchefbr', 'location': '', 'description': 'O maior reality culinário do mundo toda terça, às 22h30, na tela da @BandTV', 'url': 'https://t.co/yjbDPPVZNC', 'entities': {'url': {'urls': [{'url': 'https://t.co/yjbDPPVZNC', 'expanded_url': 'http://band.com.br/masterchef', 'display_url': 'band.com.br/masterchef', 'indices': [0, 23]}]}, 'description': {'urls': []}}, 'protected': False, 'followers_count': 1598968, 'friends_count': 300, 'listed_count': 405, 'created_at': 'Tue Jun 10 16:23:11 +0000 2014', 'favourites_count': 3164, 'utc_offset': -10800, 'time_zone': 'Brasilia', 'geo_enabled': True, 'verified': True, 'statuses_count': 180725, 'lang': 'pt', 'contributors_enabled': False, 'is_translator': False, 'is_translation_enabled': False, 'profile_background_color': '1A1B1F', 'profile_background_image_url': 'http://abs.twimg.com/images/themes/theme9/bg.gif', 'profile_background_image_url_https': 'https://abs.twimg.com/images/themes/theme9/bg.gif', 'profile_background_tile': False, 'profile_image_url': 'http://pbs.twimg.com/profile_images/969251202105036802/DOCRA8gK_normal.jpg', 'profile_image_url_https': 'https://pbs.twimg.com/profile_images/969251202105036802/DOCRA8gK_normal.jpg', 'profile_banner_url': 'https://pbs.twimg.com/profile_banners/2598211989/1519922489', 'profile_link_color': '2FC2EF', 'profile_sidebar_border_color': '181A1E', 'profile_sidebar_fill_color': '252429', 'profile_text_color': '666666', 'profile_use_background_image': True, 'has_extended_profile': False, 'default_profile': False, 'default_profile_image': False, 'following': False, 'follow_request_sent': False, 'notifications': False, 'translator_type': 'none'}, 'geo': None, 'coordinates': None, 'place': None, 'contributors': None, 'is_quote_status': False, 'retweet_count': 0, 'favorite_count': 16, 'favorited': False, 'retweeted': False, 'possibly_sensitive': False, 'lang': 'pt'}, {'created_at': 'Thu May 03 10:09:53 +0000 2018', 'id': 991983175025950721, 'id_str': '991983175025950721', 'text': 'RT @masterchefbr: Te chamam pra sair e você precisa falar o quanto de dinheiro tem sobrando para os rolês. #MasterChefBR https://t.co/gNmgf…', 'truncated': False, 'entities': {'hashtags': [{'text': 'MasterChefBR', 'indices': [107, 120]}], 'symbols': [], 'user_mentions': [{'screen_name': 'masterchefbr', 'name': 'MasterChef Brasil', 'id': 2598211989, 'id_str': '2598211989', 'indices': [3, 16]}], 'urls': []}, 'metadata': {'iso_language_code': 'pt', 'result_type': 'recent'}, 'source': '<a href=\"http://twitter.com/download/android\" rel=\"nofollow\">Twitter for Android</a>', 'in_reply_to_status_id': None, 'in_reply_to_status_id_str': None, 'in_reply_to_user_id': None, 'in_reply_to_user_id_str': None, 'in_reply_to_screen_name': None, 'user': {'id': 230933305, 'id_str': '230933305', 'name': 'Kevin Brinckmann', 'screen_name': 'kevinbrinckmann', 'location': 'World', 'description': '19 anos; Fotógrafo;\\n Montenegro-RS\\nnão sei mais o que informar aqui hahaha\\n contato profissional : 51 9 91196387 email: kevinlbrinckmann@gmail.com', 'url': 'https://t.co/AZGtVE8mNV', 'entities': {'url': {'urls': [{'url': 'https://t.co/AZGtVE8mNV', 'expanded_url': 'http://instagram.com/kevinbrinckmann', 'display_url': 'instagram.com/kevinbrinckmann', 'indices': [0, 23]}]}, 'description': {'urls': []}}, 'protected': False, 'followers_count': 305, 'friends_count': 217, 'listed_count': 0, 'created_at': 'Mon Dec 27 03:44:33 +0000 2010', 'favourites_count': 5499, 'utc_offset': -10800, 'time_zone': 'Brasilia', 'geo_enabled': True, 'verified': False, 'statuses_count': 11755, 'lang': 'pt', 'contributors_enabled': False, 'is_translator': False, 'is_translation_enabled': False, 'profile_background_color': '131516', 'profile_background_image_url': 'http://pbs.twimg.com/profile_background_images/526252867716255744/h3kb7nQT.jpeg', 'profile_background_image_url_https': 'https://pbs.twimg.com/profile_background_images/526252867716255744/h3kb7nQT.jpeg', 'profile_background_tile': True, 'profile_image_url': 'http://pbs.twimg.com/profile_images/974860257771114496/-Q6JWN-I_normal.jpg', 'profile_image_url_https': 'https://pbs.twimg.com/profile_images/974860257771114496/-Q6JWN-I_normal.jpg', 'profile_banner_url': 'https://pbs.twimg.com/profile_banners/230933305/1521261454', 'profile_link_color': '1B95E0', 'profile_sidebar_border_color': 'FFFFFF', 'profile_sidebar_fill_color': '000000', 'profile_text_color': '4AED09', 'profile_use_background_image': True, 'has_extended_profile': True, 'default_profile': False, 'default_profile_image': False, 'following': False, 'follow_request_sent': False, 'notifications': False, 'translator_type': 'none'}, 'geo': None, 'coordinates': None, 'place': None, 'contributors': None, 'retweeted_status': {'created_at': 'Wed May 02 20:20:00 +0000 2018', 'id': 991774327614967809, 'id_str': '991774327614967809', 'text': 'Te chamam pra sair e você precisa falar o quanto de dinheiro tem sobrando para os rolês. #MasterChefBR https://t.co/gNmgf4C6sH', 'truncated': False, 'entities': {'hashtags': [{'text': 'MasterChefBR', 'indices': [89, 102]}], 'symbols': [], 'user_mentions': [], 'urls': [], 'media': [{'id': 991729286951440391, 'id_str': '991729286951440391', 'indices': [103, 126], 'media_url': 'http://pbs.twimg.com/media/DcNUiDYXkAc4Aty.jpg', 'media_url_https': 'https://pbs.twimg.com/media/DcNUiDYXkAc4Aty.jpg', 'url': 'https://t.co/gNmgf4C6sH', 'display_url': 'pic.twitter.com/gNmgf4C6sH', 'expanded_url': 'https://twitter.com/masterchefbr/status/991774327614967809/photo/1', 'type': 'photo', 'sizes': {'small': {'w': 680, 'h': 453, 'resize': 'fit'}, 'thumb': {'w': 150, 'h': 150, 'resize': 'crop'}, 'large': {'w': 1080, 'h': 720, 'resize': 'fit'}, 'medium': {'w': 1080, 'h': 720, 'resize': 'fit'}}}]}, 'extended_entities': {'media': [{'id': 991729286951440391, 'id_str': '991729286951440391', 'indices': [103, 126], 'media_url': 'http://pbs.twimg.com/media/DcNUiDYXkAc4Aty.jpg', 'media_url_https': 'https://pbs.twimg.com/media/DcNUiDYXkAc4Aty.jpg', 'url': 'https://t.co/gNmgf4C6sH', 'display_url': 'pic.twitter.com/gNmgf4C6sH', 'expanded_url': 'https://twitter.com/masterchefbr/status/991774327614967809/photo/1', 'type': 'photo', 'sizes': {'small': {'w': 680, 'h': 453, 'resize': 'fit'}, 'thumb': {'w': 150, 'h': 150, 'resize': 'crop'}, 'large': {'w': 1080, 'h': 720, 'resize': 'fit'}, 'medium': {'w': 1080, 'h': 720, 'resize': 'fit'}}}]}, 'metadata': {'iso_language_code': 'pt', 'result_type': 'recent'}, 'source': '<a href=\"https://about.twitter.com/products/tweetdeck\" rel=\"nofollow\">TweetDeck</a>', 'in_reply_to_status_id': None, 'in_reply_to_status_id_str': None, 'in_reply_to_user_id': None, 'in_reply_to_user_id_str': None, 'in_reply_to_screen_name': None, 'user': {'id': 2598211989, 'id_str': '2598211989', 'name': 'MasterChef Brasil', 'screen_name': 'masterchefbr', 'location': '', 'description': 'O maior reality culinário do mundo toda terça, às 22h30, na tela da @BandTV', 'url': 'https://t.co/yjbDPPVZNC', 'entities': {'url': {'urls': [{'url': 'https://t.co/yjbDPPVZNC', 'expanded_url': 'http://band.com.br/masterchef', 'display_url': 'band.com.br/masterchef', 'indices': [0, 23]}]}, 'description': {'urls': []}}, 'protected': False, 'followers_count': 1598968, 'friends_count': 300, 'listed_count': 405, 'created_at': 'Tue Jun 10 16:23:11 +0000 2014', 'favourites_count': 3164, 'utc_offset': -10800, 'time_zone': 'Brasilia', 'geo_enabled': True, 'verified': True, 'statuses_count': 180725, 'lang': 'pt', 'contributors_enabled': False, 'is_translator': False, 'is_translation_enabled': False, 'profile_background_color': '1A1B1F', 'profile_background_image_url': 'http://abs.twimg.com/images/themes/theme9/bg.gif', 'profile_background_image_url_https': 'https://abs.twimg.com/images/themes/theme9/bg.gif', 'profile_background_tile': False, 'profile_image_url': 'http://pbs.twimg.com/profile_images/969251202105036802/DOCRA8gK_normal.jpg', 'profile_image_url_https': 'https://pbs.twimg.com/profile_images/969251202105036802/DOCRA8gK_normal.jpg', 'profile_banner_url': 'https://pbs.twimg.com/profile_banners/2598211989/1519922489', 'profile_link_color': '2FC2EF', 'profile_sidebar_border_color': '181A1E', 'profile_sidebar_fill_color': '252429', 'profile_text_color': '666666', 'profile_use_background_image': True, 'has_extended_profile': False, 'default_profile': False, 'default_profile_image': False, 'following': False, 'follow_request_sent': False, 'notifications': False, 'translator_type': 'none'}, 'geo': None, 'coordinates': None, 'place': None, 'contributors': None, 'is_quote_status': False, 'retweet_count': 157, 'favorite_count': 628, 'favorited': False, 'retweeted': False, 'possibly_sensitive': False, 'lang': 'pt'}, 'is_quote_status': False, 'retweet_count': 157, 'favorite_count': 0, 'favorited': False, 'retweeted': False, 'lang': 'pt'}, {'created_at': 'Thu May 03 10:09:07 +0000 2018', 'id': 991982981588901888, 'id_str': '991982981588901888', 'text': 'RT @masterchefbr: Aquele busão lotado na volta do trabalho! #MasterChefBR https://t.co/GyuHrT3YOp', 'truncated': False, 'entities': {'hashtags': [{'text': 'MasterChefBR', 'indices': [60, 73]}], 'symbols': [], 'user_mentions': [{'screen_name': 'masterchefbr', 'name': 'MasterChef Brasil', 'id': 2598211989, 'id_str': '2598211989', 'indices': [3, 16]}], 'urls': [], 'media': [{'id': 991520692184199169, 'id_str': '991520692184199169', 'indices': [74, 97], 'media_url': 'http://pbs.twimg.com/media/DcKW0PUWsAEbzWq.jpg', 'media_url_https': 'https://pbs.twimg.com/media/DcKW0PUWsAEbzWq.jpg', 'url': 'https://t.co/GyuHrT3YOp', 'display_url': 'pic.twitter.com/GyuHrT3YOp', 'expanded_url': 'https://twitter.com/masterchefbr/status/991521062843187200/photo/1', 'type': 'photo', 'sizes': {'large': {'w': 1080, 'h': 720, 'resize': 'fit'}, 'thumb': {'w': 150, 'h': 150, 'resize': 'crop'}, 'small': {'w': 680, 'h': 453, 'resize': 'fit'}, 'medium': {'w': 1080, 'h': 720, 'resize': 'fit'}}, 'source_status_id': 991521062843187200, 'source_status_id_str': '991521062843187200', 'source_user_id': 2598211989, 'source_user_id_str': '2598211989'}]}, 'extended_entities': {'media': [{'id': 991520692184199169, 'id_str': '991520692184199169', 'indices': [74, 97], 'media_url': 'http://pbs.twimg.com/media/DcKW0PUWsAEbzWq.jpg', 'media_url_https': 'https://pbs.twimg.com/media/DcKW0PUWsAEbzWq.jpg', 'url': 'https://t.co/GyuHrT3YOp', 'display_url': 'pic.twitter.com/GyuHrT3YOp', 'expanded_url': 'https://twitter.com/masterchefbr/status/991521062843187200/photo/1', 'type': 'photo', 'sizes': {'large': {'w': 1080, 'h': 720, 'resize': 'fit'}, 'thumb': {'w': 150, 'h': 150, 'resize': 'crop'}, 'small': {'w': 680, 'h': 453, 'resize': 'fit'}, 'medium': {'w': 1080, 'h': 720, 'resize': 'fit'}}, 'source_status_id': 991521062843187200, 'source_status_id_str': '991521062843187200', 'source_user_id': 2598211989, 'source_user_id_str': '2598211989'}]}, 'metadata': {'iso_language_code': 'pt', 'result_type': 'recent'}, 'source': '<a href=\"https://mobile.twitter.com\" rel=\"nofollow\">Twitter Lite</a>', 'in_reply_to_status_id': None, 'in_reply_to_status_id_str': None, 'in_reply_to_user_id': None, 'in_reply_to_user_id_str': None, 'in_reply_to_screen_name': None, 'user': {'id': 961707337152122882, 'id_str': '961707337152122882', 'name': 'VictoriaM', 'screen_name': 'Victori93108856', 'location': 'Brasil', 'description': 'Vampira desde 2000', 'url': None, 'entities': {'description': {'urls': []}}, 'protected': False, 'followers_count': 78, 'friends_count': 497, 'listed_count': 0, 'created_at': 'Thu Feb 08 21:04:31 +0000 2018', 'favourites_count': 1138, 'utc_offset': None, 'time_zone': None, 'geo_enabled': False, 'verified': False, 'statuses_count': 973, 'lang': 'pt', 'contributors_enabled': False, 'is_translator': False, 'is_translation_enabled': False, 'profile_background_color': 'F5F8FA', 'profile_background_image_url': None, 'profile_background_image_url_https': None, 'profile_background_tile': False, 'profile_image_url': 'http://pbs.twimg.com/profile_images/973701663465836544/Mz7oBuor_normal.jpg', 'profile_image_url_https': 'https://pbs.twimg.com/profile_images/973701663465836544/Mz7oBuor_normal.jpg', 'profile_banner_url': 'https://pbs.twimg.com/profile_banners/961707337152122882/1520983544', 'profile_link_color': '1DA1F2', 'profile_sidebar_border_color': 'C0DEED', 'profile_sidebar_fill_color': 'DDEEF6', 'profile_text_color': '333333', 'profile_use_background_image': True, 'has_extended_profile': False, 'default_profile': True, 'default_profile_image': False, 'following': False, 'follow_request_sent': False, 'notifications': False, 'translator_type': 'none'}, 'geo': None, 'coordinates': None, 'place': None, 'contributors': None, 'retweeted_status': {'created_at': 'Wed May 02 03:33:37 +0000 2018', 'id': 991521062843187200, 'id_str': '991521062843187200', 'text': 'Aquele busão lotado na volta do trabalho! #MasterChefBR https://t.co/GyuHrT3YOp', 'truncated': False, 'entities': {'hashtags': [{'text': 'MasterChefBR', 'indices': [42, 55]}], 'symbols': [], 'user_mentions': [], 'urls': [], 'media': [{'id': 991520692184199169, 'id_str': '991520692184199169', 'indices': [56, 79], 'media_url': 'http://pbs.twimg.com/media/DcKW0PUWsAEbzWq.jpg', 'media_url_https': 'https://pbs.twimg.com/media/DcKW0PUWsAEbzWq.jpg', 'url': 'https://t.co/GyuHrT3YOp', 'display_url': 'pic.twitter.com/GyuHrT3YOp', 'expanded_url': 'https://twitter.com/masterchefbr/status/991521062843187200/photo/1', 'type': 'photo', 'sizes': {'large': {'w': 1080, 'h': 720, 'resize': 'fit'}, 'thumb': {'w': 150, 'h': 150, 'resize': 'crop'}, 'small': {'w': 680, 'h': 453, 'resize': 'fit'}, 'medium': {'w': 1080, 'h': 720, 'resize': 'fit'}}}]}, 'extended_entities': {'media': [{'id': 991520692184199169, 'id_str': '991520692184199169', 'indices': [56, 79], 'media_url': 'http://pbs.twimg.com/media/DcKW0PUWsAEbzWq.jpg', 'media_url_https': 'https://pbs.twimg.com/media/DcKW0PUWsAEbzWq.jpg', 'url': 'https://t.co/GyuHrT3YOp', 'display_url': 'pic.twitter.com/GyuHrT3YOp', 'expanded_url': 'https://twitter.com/masterchefbr/status/991521062843187200/photo/1', 'type': 'photo', 'sizes': {'large': {'w': 1080, 'h': 720, 'resize': 'fit'}, 'thumb': {'w': 150, 'h': 150, 'resize': 'crop'}, 'small': {'w': 680, 'h': 453, 'resize': 'fit'}, 'medium': {'w': 1080, 'h': 720, 'resize': 'fit'}}}]}, 'metadata': {'iso_language_code': 'pt', 'result_type': 'recent'}, 'source': '<a href=\"http://twitter.com\" rel=\"nofollow\">Twitter Web Client</a>', 'in_reply_to_status_id': None, 'in_reply_to_status_id_str': None, 'in_reply_to_user_id': None, 'in_reply_to_user_id_str': None, 'in_reply_to_screen_name': None, 'user': {'id': 2598211989, 'id_str': '2598211989', 'name': 'MasterChef Brasil', 'screen_name': 'masterchefbr', 'location': '', 'description': 'O maior reality culinário do mundo toda terça, às 22h30, na tela da @BandTV', 'url': 'https://t.co/yjbDPPVZNC', 'entities': {'url': {'urls': [{'url': 'https://t.co/yjbDPPVZNC', 'expanded_url': 'http://band.com.br/masterchef', 'display_url': 'band.com.br/masterchef', 'indices': [0, 23]}]}, 'description': {'urls': []}}, 'protected': False, 'followers_count': 1598968, 'friends_count': 300, 'listed_count': 405, 'created_at': 'Tue Jun 10 16:23:11 +0000 2014', 'favourites_count': 3164, 'utc_offset': -10800, 'time_zone': 'Brasilia', 'geo_enabled': True, 'verified': True, 'statuses_count': 180725, 'lang': 'pt', 'contributors_enabled': False, 'is_translator': False, 'is_translation_enabled': False, 'profile_background_color': '1A1B1F', 'profile_background_image_url': 'http://abs.twimg.com/images/themes/theme9/bg.gif', 'profile_background_image_url_https': 'https://abs.twimg.com/images/themes/theme9/bg.gif', 'profile_background_tile': False, 'profile_image_url': 'http://pbs.twimg.com/profile_images/969251202105036802/DOCRA8gK_normal.jpg', 'profile_image_url_https': 'https://pbs.twimg.com/profile_images/969251202105036802/DOCRA8gK_normal.jpg', 'profile_banner_url': 'https://pbs.twimg.com/profile_banners/2598211989/1519922489', 'profile_link_color': '2FC2EF', 'profile_sidebar_border_color': '181A1E', 'profile_sidebar_fill_color': '252429', 'profile_text_color': '666666', 'profile_use_background_image': True, 'has_extended_profile': False, 'default_profile': False, 'default_profile_image': False, 'following': False, 'follow_request_sent': False, 'notifications': False, 'translator_type': 'none'}, 'geo': None, 'coordinates': None, 'place': None, 'contributors': None, 'is_quote_status': False, 'retweet_count': 242, 'favorite_count': 927, 'favorited': False, 'retweeted': False, 'possibly_sensitive': False, 'lang': 'pt'}, 'is_quote_status': False, 'retweet_count': 242, 'favorite_count': 0, 'favorited': False, 'retweeted': False, 'possibly_sensitive': False, 'lang': 'pt'}, {'created_at': 'Thu May 03 10:06:55 +0000 2018', 'id': 991982427982782466, 'id_str': '991982427982782466', 'text': 'RT @RainhaCarminha: Por enquanto tô torcendo por esse top 4 ❤❤ #MasterChefBR https://t.co/mAfx5Au6Jz', 'truncated': False, 'entities': {'hashtags': [{'text': 'MasterChefBR', 'indices': [63, 76]}], 'symbols': [], 'user_mentions': [{'screen_name': 'RainhaCarminha', 'name': 'Carminha Sincera 🆗', 'id': 759216697631014912, 'id_str': '759216697631014912', 'indices': [3, 18]}], 'urls': [], 'media': [{'id': 991507434131853312, 'id_str': '991507434131853312', 'indices': [77, 100], 'media_url': 'http://pbs.twimg.com/media/DcKKwhOWkAAps7P.jpg', 'media_url_https': 'https://pbs.twimg.com/media/DcKKwhOWkAAps7P.jpg', 'url': 'https://t.co/mAfx5Au6Jz', 'display_url': 'pic.twitter.com/mAfx5Au6Jz', 'expanded_url': 'https://twitter.com/RainhaCarminha/status/991507939549761536/photo/1', 'type': 'photo', 'sizes': {'thumb': {'w': 150, 'h': 150, 'resize': 'crop'}, 'medium': {'w': 1076, 'h': 613, 'resize': 'fit'}, 'small': {'w': 680, 'h': 387, 'resize': 'fit'}, 'large': {'w': 1076, 'h': 613, 'resize': 'fit'}}, 'source_status_id': 991507939549761536, 'source_status_id_str': '991507939549761536', 'source_user_id': 759216697631014912, 'source_user_id_str': '759216697631014912'}]}, 'extended_entities': {'media': [{'id': 991507434131853312, 'id_str': '991507434131853312', 'indices': [77, 100], 'media_url': 'http://pbs.twimg.com/media/DcKKwhOWkAAps7P.jpg', 'media_url_https': 'https://pbs.twimg.com/media/DcKKwhOWkAAps7P.jpg', 'url': 'https://t.co/mAfx5Au6Jz', 'display_url': 'pic.twitter.com/mAfx5Au6Jz', 'expanded_url': 'https://twitter.com/RainhaCarminha/status/991507939549761536/photo/1', 'type': 'photo', 'sizes': {'thumb': {'w': 150, 'h': 150, 'resize': 'crop'}, 'medium': {'w': 1076, 'h': 613, 'resize': 'fit'}, 'small': {'w': 680, 'h': 387, 'resize': 'fit'}, 'large': {'w': 1076, 'h': 613, 'resize': 'fit'}}, 'source_status_id': 991507939549761536, 'source_status_id_str': '991507939549761536', 'source_user_id': 759216697631014912, 'source_user_id_str': '759216697631014912'}, {'id': 991507910994923520, 'id_str': '991507910994923520', 'indices': [77, 100], 'media_url': 'http://pbs.twimg.com/media/DcKLMRrXkAASZLZ.jpg', 'media_url_https': 'https://pbs.twimg.com/media/DcKLMRrXkAASZLZ.jpg', 'url': 'https://t.co/mAfx5Au6Jz', 'display_url': 'pic.twitter.com/mAfx5Au6Jz', 'expanded_url': 'https://twitter.com/RainhaCarminha/status/991507939549761536/photo/1', 'type': 'photo', 'sizes': {'thumb': {'w': 150, 'h': 150, 'resize': 'crop'}, 'medium': {'w': 543, 'h': 271, 'resize': 'fit'}, 'small': {'w': 543, 'h': 271, 'resize': 'fit'}, 'large': {'w': 543, 'h': 271, 'resize': 'fit'}}, 'source_status_id': 991507939549761536, 'source_status_id_str': '991507939549761536', 'source_user_id': 759216697631014912, 'source_user_id_str': '759216697631014912'}, {'id': 991507926740361216, 'id_str': '991507926740361216', 'indices': [77, 100], 'media_url': 'http://pbs.twimg.com/media/DcKLNMVX4AA2QmR.jpg', 'media_url_https': 'https://pbs.twimg.com/media/DcKLNMVX4AA2QmR.jpg', 'url': 'https://t.co/mAfx5Au6Jz', 'display_url': 'pic.twitter.com/mAfx5Au6Jz', 'expanded_url': 'https://twitter.com/RainhaCarminha/status/991507939549761536/photo/1', 'type': 'photo', 'sizes': {'thumb': {'w': 150, 'h': 150, 'resize': 'crop'}, 'large': {'w': 646, 'h': 600, 'resize': 'fit'}, 'small': {'w': 646, 'h': 600, 'resize': 'fit'}, 'medium': {'w': 646, 'h': 600, 'resize': 'fit'}}, 'source_status_id': 991507939549761536, 'source_status_id_str': '991507939549761536', 'source_user_id': 759216697631014912, 'source_user_id_str': '759216697631014912'}, {'id': 991507932708818945, 'id_str': '991507932708818945', 'indices': [77, 100], 'media_url': 'http://pbs.twimg.com/media/DcKLNikXUAElCmV.jpg', 'media_url_https': 'https://pbs.twimg.com/media/DcKLNikXUAElCmV.jpg', 'url': 'https://t.co/mAfx5Au6Jz', 'display_url': 'pic.twitter.com/mAfx5Au6Jz', 'expanded_url': 'https://twitter.com/RainhaCarminha/status/991507939549761536/photo/1', 'type': 'photo', 'sizes': {'thumb': {'w': 150, 'h': 150, 'resize': 'crop'}, 'medium': {'w': 500, 'h': 294, 'resize': 'fit'}, 'large': {'w': 500, 'h': 294, 'resize': 'fit'}, 'small': {'w': 500, 'h': 294, 'resize': 'fit'}}, 'source_status_id': 991507939549761536, 'source_status_id_str': '991507939549761536', 'source_user_id': 759216697631014912, 'source_user_id_str': '759216697631014912'}]}, 'metadata': {'iso_language_code': 'pt', 'result_type': 'recent'}, 'source': '<a href=\"https://mobile.twitter.com\" rel=\"nofollow\">Twitter Lite</a>', 'in_reply_to_status_id': None, 'in_reply_to_status_id_str': None, 'in_reply_to_user_id': None, 'in_reply_to_user_id_str': None, 'in_reply_to_screen_name': None, 'user': {'id': 961707337152122882, 'id_str': '961707337152122882', 'name': 'VictoriaM', 'screen_name': 'Victori93108856', 'location': 'Brasil', 'description': 'Vampira desde 2000', 'url': None, 'entities': {'description': {'urls': []}}, 'protected': False, 'followers_count': 78, 'friends_count': 497, 'listed_count': 0, 'created_at': 'Thu Feb 08 21:04:31 +0000 2018', 'favourites_count': 1138, 'utc_offset': None, 'time_zone': None, 'geo_enabled': False, 'verified': False, 'statuses_count': 973, 'lang': 'pt', 'contributors_enabled': False, 'is_translator': False, 'is_translation_enabled': False, 'profile_background_color': 'F5F8FA', 'profile_background_image_url': None, 'profile_background_image_url_https': None, 'profile_background_tile': False, 'profile_image_url': 'http://pbs.twimg.com/profile_images/973701663465836544/Mz7oBuor_normal.jpg', 'profile_image_url_https': 'https://pbs.twimg.com/profile_images/973701663465836544/Mz7oBuor_normal.jpg', 'profile_banner_url': 'https://pbs.twimg.com/profile_banners/961707337152122882/1520983544', 'profile_link_color': '1DA1F2', 'profile_sidebar_border_color': 'C0DEED', 'profile_sidebar_fill_color': 'DDEEF6', 'profile_text_color': '333333', 'profile_use_background_image': True, 'has_extended_profile': False, 'default_profile': True, 'default_profile_image': False, 'following': False, 'follow_request_sent': False, 'notifications': False, 'translator_type': 'none'}, 'geo': None, 'coordinates': None, 'place': None, 'contributors': None, 'retweeted_status': {'created_at': 'Wed May 02 02:41:28 +0000 2018', 'id': 991507939549761536, 'id_str': '991507939549761536', 'text': 'Por enquanto tô torcendo por esse top 4 ❤❤ #MasterChefBR https://t.co/mAfx5Au6Jz', 'truncated': False, 'entities': {'hashtags': [{'text': 'MasterChefBR', 'indices': [43, 56]}], 'symbols': [], 'user_mentions': [], 'urls': [], 'media': [{'id': 991507434131853312, 'id_str': '991507434131853312', 'indices': [57, 80], 'media_url': 'http://pbs.twimg.com/media/DcKKwhOWkAAps7P.jpg', 'media_url_https': 'https://pbs.twimg.com/media/DcKKwhOWkAAps7P.jpg', 'url': 'https://t.co/mAfx5Au6Jz', 'display_url': 'pic.twitter.com/mAfx5Au6Jz', 'expanded_url': 'https://twitter.com/RainhaCarminha/status/991507939549761536/photo/1', 'type': 'photo', 'sizes': {'thumb': {'w': 150, 'h': 150, 'resize': 'crop'}, 'medium': {'w': 1076, 'h': 613, 'resize': 'fit'}, 'small': {'w': 680, 'h': 387, 'resize': 'fit'}, 'large': {'w': 1076, 'h': 613, 'resize': 'fit'}}}]}, 'extended_entities': {'media': [{'id': 991507434131853312, 'id_str': '991507434131853312', 'indices': [57, 80], 'media_url': 'http://pbs.twimg.com/media/DcKKwhOWkAAps7P.jpg', 'media_url_https': 'https://pbs.twimg.com/media/DcKKwhOWkAAps7P.jpg', 'url': 'https://t.co/mAfx5Au6Jz', 'display_url': 'pic.twitter.com/mAfx5Au6Jz', 'expanded_url': 'https://twitter.com/RainhaCarminha/status/991507939549761536/photo/1', 'type': 'photo', 'sizes': {'thumb': {'w': 150, 'h': 150, 'resize': 'crop'}, 'medium': {'w': 1076, 'h': 613, 'resize': 'fit'}, 'small': {'w': 680, 'h': 387, 'resize': 'fit'}, 'large': {'w': 1076, 'h': 613, 'resize': 'fit'}}}, {'id': 991507910994923520, 'id_str': '991507910994923520', 'indices': [57, 80], 'media_url': 'http://pbs.twimg.com/media/DcKLMRrXkAASZLZ.jpg', 'media_url_https': 'https://pbs.twimg.com/media/DcKLMRrXkAASZLZ.jpg', 'url': 'https://t.co/mAfx5Au6Jz', 'display_url': 'pic.twitter.com/mAfx5Au6Jz', 'expanded_url': 'https://twitter.com/RainhaCarminha/status/991507939549761536/photo/1', 'type': 'photo', 'sizes': {'thumb': {'w': 150, 'h': 150, 'resize': 'crop'}, 'medium': {'w': 543, 'h': 271, 'resize': 'fit'}, 'small': {'w': 543, 'h': 271, 'resize': 'fit'}, 'large': {'w': 543, 'h': 271, 'resize': 'fit'}}}, {'id': 991507926740361216, 'id_str': '991507926740361216', 'indices': [57, 80], 'media_url': 'http://pbs.twimg.com/media/DcKLNMVX4AA2QmR.jpg', 'media_url_https': 'https://pbs.twimg.com/media/DcKLNMVX4AA2QmR.jpg', 'url': 'https://t.co/mAfx5Au6Jz', 'display_url': 'pic.twitter.com/mAfx5Au6Jz', 'expanded_url': 'https://twitter.com/RainhaCarminha/status/991507939549761536/photo/1', 'type': 'photo', 'sizes': {'thumb': {'w': 150, 'h': 150, 'resize': 'crop'}, 'large': {'w': 646, 'h': 600, 'resize': 'fit'}, 'small': {'w': 646, 'h': 600, 'resize': 'fit'}, 'medium': {'w': 646, 'h': 600, 'resize': 'fit'}}}, {'id': 991507932708818945, 'id_str': '991507932708818945', 'indices': [57, 80], 'media_url': 'http://pbs.twimg.com/media/DcKLNikXUAElCmV.jpg', 'media_url_https': 'https://pbs.twimg.com/media/DcKLNikXUAElCmV.jpg', 'url': 'https://t.co/mAfx5Au6Jz', 'display_url': 'pic.twitter.com/mAfx5Au6Jz', 'expanded_url': 'https://twitter.com/RainhaCarminha/status/991507939549761536/photo/1', 'type': 'photo', 'sizes': {'thumb': {'w': 150, 'h': 150, 'resize': 'crop'}, 'medium': {'w': 500, 'h': 294, 'resize': 'fit'}, 'large': {'w': 500, 'h': 294, 'resize': 'fit'}, 'small': {'w': 500, 'h': 294, 'resize': 'fit'}}}]}, 'metadata': {'iso_language_code': 'pt', 'result_type': 'recent'}, 'source': '<a href=\"http://twitter.com/download/android\" rel=\"nofollow\">Twitter for Android</a>', 'in_reply_to_status_id': None, 'in_reply_to_status_id_str': None, 'in_reply_to_user_id': None, 'in_reply_to_user_id_str': None, 'in_reply_to_screen_name': None, 'user': {'id': 759216697631014912, 'id_str': '759216697631014912', 'name': 'Carminha Sincera 🆗', 'screen_name': 'RainhaCarminha', 'location': 'Bairro Divino ', 'description': 'A gente precisa comer um saco de sal com a pessoa pra saber quem ela é', 'url': None, 'entities': {'description': {'urls': []}}, 'protected': False, 'followers_count': 15872, 'friends_count': 1218, 'listed_count': 309, 'created_at': 'Sat Jul 30 02:39:01 +0000 2016', 'favourites_count': 30047, 'utc_offset': None, 'time_zone': None, 'geo_enabled': False, 'verified': False, 'statuses_count': 9847, 'lang': 'pt', 'contributors_enabled': False, 'is_translator': False, 'is_translation_enabled': False, 'profile_background_color': 'F5F8FA', 'profile_background_image_url': None, 'profile_background_image_url_https': None, 'profile_background_tile': False, 'profile_image_url': 'http://pbs.twimg.com/profile_images/950124920016646145/E48Uz4qC_normal.jpg', 'profile_image_url_https': 'https://pbs.twimg.com/profile_images/950124920016646145/E48Uz4qC_normal.jpg', 'profile_banner_url': 'https://pbs.twimg.com/profile_banners/759216697631014912/1506907716', 'profile_link_color': '1DA1F2', 'profile_sidebar_border_color': 'C0DEED', 'profile_sidebar_fill_color': 'DDEEF6', 'profile_text_color': '333333', 'profile_use_background_image': True, 'has_extended_profile': False, 'default_profile': True, 'default_profile_image': False, 'following': False, 'follow_request_sent': False, 'notifications': False, 'translator_type': 'none'}, 'geo': None, 'coordinates': None, 'place': None, 'contributors': None, 'is_quote_status': False, 'retweet_count': 71, 'favorite_count': 326, 'favorited': False, 'retweeted': False, 'possibly_sensitive': False, 'lang': 'pt'}, 'is_quote_status': False, 'retweet_count': 71, 'favorite_count': 0, 'favorited': False, 'retweeted': False, 'possibly_sensitive': False, 'lang': 'pt'}, {'created_at': 'Thu May 03 10:06:14 +0000 2018', 'id': 991982254091104256, 'id_str': '991982254091104256', 'text': 'RT @RainhaCarminha: Até hoje me pergunto: quem lava a louça que esse povo suja?\\n#MasterChefBR https://t.co/x7YgvsltpJ', 'truncated': False, 'entities': {'hashtags': [{'text': 'MasterChefBR', 'indices': [80, 93]}], 'symbols': [], 'user_mentions': [{'screen_name': 'RainhaCarminha', 'name': 'Carminha Sincera 🆗', 'id': 759216697631014912, 'id_str': '759216697631014912', 'indices': [3, 18]}], 'urls': [], 'media': [{'id': 991515807732641792, 'id_str': '991515807732641792', 'indices': [94, 117], 'media_url': 'http://pbs.twimg.com/media/DcKSX7UWsAAynog.jpg', 'media_url_https': 'https://pbs.twimg.com/media/DcKSX7UWsAAynog.jpg', 'url': 'https://t.co/x7YgvsltpJ', 'display_url': 'pic.twitter.com/x7YgvsltpJ', 'expanded_url': 'https://twitter.com/RainhaCarminha/status/991515811180371968/photo/1', 'type': 'photo', 'sizes': {'thumb': {'w': 150, 'h': 150, 'resize': 'crop'}, 'small': {'w': 519, 'h': 278, 'resize': 'fit'}, 'medium': {'w': 519, 'h': 278, 'resize': 'fit'}, 'large': {'w': 519, 'h': 278, 'resize': 'fit'}}, 'source_status_id': 991515811180371968, 'source_status_id_str': '991515811180371968', 'source_user_id': 759216697631014912, 'source_user_id_str': '759216697631014912'}]}, 'extended_entities': {'media': [{'id': 991515807732641792, 'id_str': '991515807732641792', 'indices': [94, 117], 'media_url': 'http://pbs.twimg.com/media/DcKSX7UWsAAynog.jpg', 'media_url_https': 'https://pbs.twimg.com/media/DcKSX7UWsAAynog.jpg', 'url': 'https://t.co/x7YgvsltpJ', 'display_url': 'pic.twitter.com/x7YgvsltpJ', 'expanded_url': 'https://twitter.com/RainhaCarminha/status/991515811180371968/photo/1', 'type': 'photo', 'sizes': {'thumb': {'w': 150, 'h': 150, 'resize': 'crop'}, 'small': {'w': 519, 'h': 278, 'resize': 'fit'}, 'medium': {'w': 519, 'h': 278, 'resize': 'fit'}, 'large': {'w': 519, 'h': 278, 'resize': 'fit'}}, 'source_status_id': 991515811180371968, 'source_status_id_str': '991515811180371968', 'source_user_id': 759216697631014912, 'source_user_id_str': '759216697631014912'}]}, 'metadata': {'iso_language_code': 'pt', 'result_type': 'recent'}, 'source': '<a href=\"https://mobile.twitter.com\" rel=\"nofollow\">Twitter Lite</a>', 'in_reply_to_status_id': None, 'in_reply_to_status_id_str': None, 'in_reply_to_user_id': None, 'in_reply_to_user_id_str': None, 'in_reply_to_screen_name': None, 'user': {'id': 961707337152122882, 'id_str': '961707337152122882', 'name': 'VictoriaM', 'screen_name': 'Victori93108856', 'location': 'Brasil', 'description': 'Vampira desde 2000', 'url': None, 'entities': {'description': {'urls': []}}, 'protected': False, 'followers_count': 78, 'friends_count': 497, 'listed_count': 0, 'created_at': 'Thu Feb 08 21:04:31 +0000 2018', 'favourites_count': 1138, 'utc_offset': None, 'time_zone': None, 'geo_enabled': False, 'verified': False, 'statuses_count': 973, 'lang': 'pt', 'contributors_enabled': False, 'is_translator': False, 'is_translation_enabled': False, 'profile_background_color': 'F5F8FA', 'profile_background_image_url': None, 'profile_background_image_url_https': None, 'profile_background_tile': False, 'profile_image_url': 'http://pbs.twimg.com/profile_images/973701663465836544/Mz7oBuor_normal.jpg', 'profile_image_url_https': 'https://pbs.twimg.com/profile_images/973701663465836544/Mz7oBuor_normal.jpg', 'profile_banner_url': 'https://pbs.twimg.com/profile_banners/961707337152122882/1520983544', 'profile_link_color': '1DA1F2', 'profile_sidebar_border_color': 'C0DEED', 'profile_sidebar_fill_color': 'DDEEF6', 'profile_text_color': '333333', 'profile_use_background_image': True, 'has_extended_profile': False, 'default_profile': True, 'default_profile_image': False, 'following': False, 'follow_request_sent': False, 'notifications': False, 'translator_type': 'none'}, 'geo': None, 'coordinates': None, 'place': None, 'contributors': None, 'retweeted_status': {'created_at': 'Wed May 02 03:12:45 +0000 2018', 'id': 991515811180371968, 'id_str': '991515811180371968', 'text': 'Até hoje me pergunto: quem lava a louça que esse povo suja?\\n#MasterChefBR https://t.co/x7YgvsltpJ', 'truncated': False, 'entities': {'hashtags': [{'text': 'MasterChefBR', 'indices': [60, 73]}], 'symbols': [], 'user_mentions': [], 'urls': [], 'media': [{'id': 991515807732641792, 'id_str': '991515807732641792', 'indices': [74, 97], 'media_url': 'http://pbs.twimg.com/media/DcKSX7UWsAAynog.jpg', 'media_url_https': 'https://pbs.twimg.com/media/DcKSX7UWsAAynog.jpg', 'url': 'https://t.co/x7YgvsltpJ', 'display_url': 'pic.twitter.com/x7YgvsltpJ', 'expanded_url': 'https://twitter.com/RainhaCarminha/status/991515811180371968/photo/1', 'type': 'photo', 'sizes': {'thumb': {'w': 150, 'h': 150, 'resize': 'crop'}, 'small': {'w': 519, 'h': 278, 'resize': 'fit'}, 'medium': {'w': 519, 'h': 278, 'resize': 'fit'}, 'large': {'w': 519, 'h': 278, 'resize': 'fit'}}}]}, 'extended_entities': {'media': [{'id': 991515807732641792, 'id_str': '991515807732641792', 'indices': [74, 97], 'media_url': 'http://pbs.twimg.com/media/DcKSX7UWsAAynog.jpg', 'media_url_https': 'https://pbs.twimg.com/media/DcKSX7UWsAAynog.jpg', 'url': 'https://t.co/x7YgvsltpJ', 'display_url': 'pic.twitter.com/x7YgvsltpJ', 'expanded_url': 'https://twitter.com/RainhaCarminha/status/991515811180371968/photo/1', 'type': 'photo', 'sizes': {'thumb': {'w': 150, 'h': 150, 'resize': 'crop'}, 'small': {'w': 519, 'h': 278, 'resize': 'fit'}, 'medium': {'w': 519, 'h': 278, 'resize': 'fit'}, 'large': {'w': 519, 'h': 278, 'resize': 'fit'}}}]}, 'metadata': {'iso_language_code': 'pt', 'result_type': 'recent'}, 'source': '<a href=\"http://twitter.com/download/android\" rel=\"nofollow\">Twitter for Android</a>', 'in_reply_to_status_id': None, 'in_reply_to_status_id_str': None, 'in_reply_to_user_id': None, 'in_reply_to_user_id_str': None, 'in_reply_to_screen_name': None, 'user': {'id': 759216697631014912, 'id_str': '759216697631014912', 'name': 'Carminha Sincera 🆗', 'screen_name': 'RainhaCarminha', 'location': 'Bairro Divino ', 'description': 'A gente precisa comer um saco de sal com a pessoa pra saber quem ela é', 'url': None, 'entities': {'description': {'urls': []}}, 'protected': False, 'followers_count': 15872, 'friends_count': 1218, 'listed_count': 309, 'created_at': 'Sat Jul 30 02:39:01 +0000 2016', 'favourites_count': 30047, 'utc_offset': None, 'time_zone': None, 'geo_enabled': False, 'verified': False, 'statuses_count': 9847, 'lang': 'pt', 'contributors_enabled': False, 'is_translator': False, 'is_translation_enabled': False, 'profile_background_color': 'F5F8FA', 'profile_background_image_url': None, 'profile_background_image_url_https': None, 'profile_background_tile': False, 'profile_image_url': 'http://pbs.twimg.com/profile_images/950124920016646145/E48Uz4qC_normal.jpg', 'profile_image_url_https': 'https://pbs.twimg.com/profile_images/950124920016646145/E48Uz4qC_normal.jpg', 'profile_banner_url': 'https://pbs.twimg.com/profile_banners/759216697631014912/1506907716', 'profile_link_color': '1DA1F2', 'profile_sidebar_border_color': 'C0DEED', 'profile_sidebar_fill_color': 'DDEEF6', 'profile_text_color': '333333', 'profile_use_background_image': True, 'has_extended_profile': False, 'default_profile': True, 'default_profile_image': False, 'following': False, 'follow_request_sent': False, 'notifications': False, 'translator_type': 'none'}, 'geo': None, 'coordinates': None, 'place': None, 'contributors': None, 'is_quote_status': False, 'retweet_count': 94, 'favorite_count': 304, 'favorited': False, 'retweeted': False, 'possibly_sensitive': False, 'lang': 'pt'}, 'is_quote_status': False, 'retweet_count': 94, 'favorite_count': 0, 'favorited': False, 'retweeted': False, 'possibly_sensitive': False, 'lang': 'pt'}]\n"
     ]
    }
   ],
   "source": [
    "print(result_hashtag['statuses'])"
   ]
  },
  {
   "cell_type": "markdown",
   "metadata": {},
   "source": [
    "O nosso foco nessa primiera parte é ver os dados associados a cada twitter retornado pela busca. Por conta disso, vamos trabalhar com o **statuses**. O *statuses* é uma lista de tweets. No entanto, a busca retorna toda a estrutura relacionada ao tweet e não somente o texto. A lista completa do que a busca retorna pode ser encontrada na documentação do twitter já linkada anteriormente.\n",
    "\n",
    "Vamos exibir o texto dos tweets coletados:"
   ]
  },
  {
   "cell_type": "code",
   "execution_count": 9,
   "metadata": {
    "scrolled": true
   },
   "outputs": [
    {
     "name": "stdout",
     "output_type": "stream",
     "text": [
      "991984461100273664\n",
      "O Dia das Bruxas ainda tá longe, mas a @ClarisseMChef já entrou no clima. #MasterChefBR https://t.co/Tw7JjjA9pB\n",
      "991983175025950721\n",
      "RT @masterchefbr: Te chamam pra sair e você precisa falar o quanto de dinheiro tem sobrando para os rolês. #MasterChefBR https://t.co/gNmgf…\n",
      "991982981588901888\n",
      "RT @masterchefbr: Aquele busão lotado na volta do trabalho! #MasterChefBR https://t.co/GyuHrT3YOp\n",
      "991982427982782466\n",
      "RT @RainhaCarminha: Por enquanto tô torcendo por esse top 4 ❤❤ #MasterChefBR https://t.co/mAfx5Au6Jz\n",
      "991982254091104256\n",
      "RT @RainhaCarminha: Até hoje me pergunto: quem lava a louça que esse povo suja?\n",
      "#MasterChefBR https://t.co/x7YgvsltpJ\n"
     ]
    }
   ],
   "source": [
    "tweets = result_hashtag['statuses']\n",
    "\n",
    "for tweet in tweets:\n",
    "    print(tweet['id'])\n",
    "    print(tweet['text'])"
   ]
  },
  {
   "cell_type": "markdown",
   "metadata": {},
   "source": [
    "Cade tweet possui um *id* que o identifica unicamente. Essa informação é útil caso não queira coletar tweets repetidos. No entanto, RT são considerados tweets distintos. \n",
    "\n",
    "A busca também retorna informações sobre o usuário que postou tal tweet. O campo *user* retorna uma instância de usuário do tweet conforme documentação disponível em: https://dev.twitter.com/overview/api/users. Como exemplo vamos utilizar o primeir tweet coletado na busca anterior. "
   ]
  },
  {
   "cell_type": "code",
   "execution_count": 10,
   "metadata": {
    "scrolled": true
   },
   "outputs": [
    {
     "name": "stdout",
     "output_type": "stream",
     "text": [
      "{'id': 2598211989, 'id_str': '2598211989', 'name': 'MasterChef Brasil', 'screen_name': 'masterchefbr', 'location': '', 'description': 'O maior reality culinário do mundo toda terça, às 22h30, na tela da @BandTV', 'url': 'https://t.co/yjbDPPVZNC', 'entities': {'url': {'urls': [{'url': 'https://t.co/yjbDPPVZNC', 'expanded_url': 'http://band.com.br/masterchef', 'display_url': 'band.com.br/masterchef', 'indices': [0, 23]}]}, 'description': {'urls': []}}, 'protected': False, 'followers_count': 1598968, 'friends_count': 300, 'listed_count': 405, 'created_at': 'Tue Jun 10 16:23:11 +0000 2014', 'favourites_count': 3164, 'utc_offset': -10800, 'time_zone': 'Brasilia', 'geo_enabled': True, 'verified': True, 'statuses_count': 180725, 'lang': 'pt', 'contributors_enabled': False, 'is_translator': False, 'is_translation_enabled': False, 'profile_background_color': '1A1B1F', 'profile_background_image_url': 'http://abs.twimg.com/images/themes/theme9/bg.gif', 'profile_background_image_url_https': 'https://abs.twimg.com/images/themes/theme9/bg.gif', 'profile_background_tile': False, 'profile_image_url': 'http://pbs.twimg.com/profile_images/969251202105036802/DOCRA8gK_normal.jpg', 'profile_image_url_https': 'https://pbs.twimg.com/profile_images/969251202105036802/DOCRA8gK_normal.jpg', 'profile_banner_url': 'https://pbs.twimg.com/profile_banners/2598211989/1519922489', 'profile_link_color': '2FC2EF', 'profile_sidebar_border_color': '181A1E', 'profile_sidebar_fill_color': '252429', 'profile_text_color': '666666', 'profile_use_background_image': True, 'has_extended_profile': False, 'default_profile': False, 'default_profile_image': False, 'following': False, 'follow_request_sent': False, 'notifications': False, 'translator_type': 'none'}\n"
     ]
    }
   ],
   "source": [
    "first_tweet = tweets[0]\n",
    "\n",
    "user_ = first_tweet['user']\n",
    "\n",
    "print(user_)"
   ]
  },
  {
   "cell_type": "markdown",
   "metadata": {},
   "source": [
    "Selecionando alguns campos, temos:"
   ]
  },
  {
   "cell_type": "code",
   "execution_count": 11,
   "metadata": {
    "scrolled": false
   },
   "outputs": [
    {
     "name": "stdout",
     "output_type": "stream",
     "text": [
      "2598211989\n",
      "MasterChef Brasil\n",
      "masterchefbr\n",
      "O maior reality culinário do mundo toda terça, às 22h30, na tela da @BandTV\n",
      "http://pbs.twimg.com/profile_images/969251202105036802/DOCRA8gK_normal.jpg\n"
     ]
    }
   ],
   "source": [
    "print(user_['id']) #id do usuário\n",
    "print(user_['name']) #nome do usuário\n",
    "print(user_['screen_name']) #username do usuário\n",
    "print(user_['description']) #descrição do perfil\n",
    "print(user_['profile_image_url']) #url da imagem do perfil"
   ]
  },
  {
   "cell_type": "markdown",
   "metadata": {},
   "source": [
    "É possível coletar também a timeline de um determinado usuário:"
   ]
  },
  {
   "cell_type": "code",
   "execution_count": 12,
   "metadata": {
    "scrolled": true
   },
   "outputs": [
    {
     "name": "stdout",
     "output_type": "stream",
     "text": [
      "(pt-br and english post) Essa é mais uma atividade do curso de Fundamentos de Programação em… https://t.co/15m4j60LKj\n",
      "(pt-br and english posts) Que tal começar a coletar dados do twitter em 1 minuto? Twython +… https://t.co/PVhB4SXNzd\n",
      "Já já começa a #congenti na @unit_br 😊\n",
      "É neste sábado: #feivest na @unit_br. Estaremos lá mostrando um pouco dos cursos de computação ;)\n",
      "@jonh_paulo muito interessante. Só o texto que podia ter algumas informações mais técnicas ou pelo menos o link para o artigo =/\n",
      "Sério q tem um Twitter da vuvuzela kkkkkkkkkkk https://t.co/z5lkHHMr0v\n",
      "GO GO Power Rangers :P  https://t.co/ToUPVHhaa0\n",
      "Qual o propósito dessa briga??? Kkkkk https://t.co/rBRG0NzIBE\n",
      "Infográfico interessante sobre Data Science :P https://t.co/oAtlQp6wra\n",
      "RT @exame: Nanotecnologia e big data podem revolucionar medicina &gt; https://t.co/hsL0wr4Mmn https://t.co/gm5yfK4FNg\n",
      "Para quem quer começar na área: https://t.co/Kgi4TFm9Gw via @dsacademybr\n",
      "Você namora a pessoa e ela vive cantando Metallica, Guns. Você casa, a pessoa tá cantando \"Molejao\" no carro 😒\n",
      "Quem vence as disputas das hashtags: #teamsuperman vs #teambatman | #teamcap vs #teamironman? https://t.co/Fqt64OWEMm #coletandodados ;)\n",
      "Quero ver tiririca votando. Será que vai ser algo do tipo: \"Meu voto é nãooooo. É mentiraaaa, enganeeeeeiiiii vocêÊÊÊÊ. Meu voto é sim\"\n",
      "@pablo_regis kkk bem lembrado .... Vai ser complicado\n",
      "Ótima analogia sobre os limites que querem colocar na internet fixa https://t.co/9HW9WdX13r\n",
      "Para quem vai para FEIVEST amanhã, não deixe registrar sua visita. Poste nas redes sociais usando as hashtags #feivest e #feivestcomp.\n",
      "Amanhã tem #feivest :)\n",
      "Neste sábado acontece a #FEIVEST na @_Unit_ . Os cursos de computação estarão presentes. Passa lá no nosso stand ;) #FEIVESTCOMP\n",
      "Grande final #MasterChefBR\n"
     ]
    }
   ],
   "source": [
    "tw_timeline = tw.get_user_timeline(screen_name=\"@adolfoguimaraes\")\n",
    "\n",
    "for tweet in tw_timeline:\n",
    "    print(tweet['text'])"
   ]
  },
  {
   "cell_type": "markdown",
   "metadata": {},
   "source": [
    "Observe que neste caso da timeline, a API só retorna a lista de tweets.\n",
    "\n",
    "A API permite também coletar informações cadastradas no perfil do usuário. O método `show_user` retorna uma instância de usuário o do twitter. "
   ]
  },
  {
   "cell_type": "code",
   "execution_count": 13,
   "metadata": {
    "scrolled": true
   },
   "outputs": [
    {
     "name": "stdout",
     "output_type": "stream",
     "text": [
      "20678688\n",
      "Adolfo Guimarães\n",
      "adolfoguimaraes\n",
      "🌍Brazilian \n",
      "📚Computer Science: professor and researcher \n",
      "💻#pyhon developer \n",
      "❤ Artificial Intelligence \n",
      "👊Technology for society\n",
      "http://pbs.twimg.com/profile_images/649939979553144832/VrYxkBov_normal.jpg\n"
     ]
    }
   ],
   "source": [
    "tw_user = tw.show_user(screen_name=\"@adolfoguimaraes\")\n",
    "\n",
    "print(tw_user['id']) #id do usuário\n",
    "print(tw_user['name']) #nome do usuário\n",
    "print(tw_user['screen_name']) #username do usuário\n",
    "print(tw_user['description']) #descrição do perfil\n",
    "print(tw_user['profile_image_url']) #url da imagem do perfil"
   ]
  },
  {
   "cell_type": "markdown",
   "metadata": {},
   "source": [
    "A lista completa dos métodos do Twython pode ser encontrada na documentação da API disponível em: https://twython.readthedocs.io/en/latest/index.html\n",
    "\n",
    "Com esses passos básicos já é possível coletar informações de textos do twitter e dos usuários que postam o conteúdo. Explore a documentação do Twitter e do Twython para criar outros exemplos. Na segunda parte, vamos explorar mais algumas funcionalidades interessantes da API."
   ]
  }
 ],
 "metadata": {
  "kernelspec": {
   "display_name": "Python 3",
   "language": "python",
   "name": "python3"
  },
  "language_info": {
   "codemirror_mode": {
    "name": "ipython",
    "version": 3
   },
   "file_extension": ".py",
   "mimetype": "text/x-python",
   "name": "python",
   "nbconvert_exporter": "python",
   "pygments_lexer": "ipython3",
   "version": "3.6.0"
  }
 },
 "nbformat": 4,
 "nbformat_minor": 2
}
