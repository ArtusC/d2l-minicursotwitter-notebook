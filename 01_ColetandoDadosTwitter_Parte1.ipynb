{
 "cells": [
  {
   "cell_type": "code",
   "execution_count": null,
   "metadata": {},
   "outputs": [],
   "source": [
    "# Instalação\n",
    "\n",
    "!pip install twython\n",
    "!pip install nltk"
   ]
  },
  {
   "cell_type": "code",
   "execution_count": 4,
   "metadata": {},
   "outputs": [
    {
     "name": "stdout",
     "output_type": "stream",
     "text": [
      "showing info https://raw.githubusercontent.com/nltk/nltk_data/gh-pages/index.xml\n"
     ]
    },
    {
     "data": {
      "text/plain": [
       "True"
      ]
     },
     "execution_count": 4,
     "metadata": {},
     "output_type": "execute_result"
    }
   ],
   "source": [
    "import nltk\n",
    "nltk.download()"
   ]
  },
  {
   "cell_type": "markdown",
   "metadata": {},
   "source": [
    "# O que o twitter está pensando?\n",
    "\n",
    "# Extraindo informações em redes sociais utilizando Python\n",
    "\n",
    "`> por: `[@profadolfoguimaraes](http://www.twitter.com/profadolfoguimaraes)\n",
    "\n",
    "Estes tutoriais apresentam os principais scritps desenvolvidos no minicurso: **O que o twitter está pensando? Extraindo informações em redes sociais utilizando Python**. O conteúdo está dividio em dois repositórios: (1) [d2l-minicursotwitter-notebook](http://github.com/adolfoguimaraes/d2l-minicursotwitter-notebook) que possui estes notebooks e (2) [d2l-minicursotwitter-web](http://github.com/adolfoguimaraes/d2l-minicursotwitter-web) que possui a página web desenvolvida.\n",
    "\n",
    "O material completo do minicurso pode ser encontrado em: http://www.data2learning.com/cursos.\n",
    "\n",
    "## 01 - Coletando Dados do Twitter (Parte 1)\n",
    "\n",
    "Na primeira parte do nosso curso vamos mostrar como utilizar uma API do twitter para coletar dados publicados na rede social. Para poder utilizar a API é necessário criar uma aplicação no site http://dev.twitter.com/apps. Após a criação da APP deve-se criar também um `Access Token` na mesma página. Detalhes de como fazer isso estão disponíveis nos slides na página do curso linkada anteriormente. \n",
    "\n",
    "Para coletar as informações do twitter, vamos utilizar a API em python **Twython** (https://twython.readthedocs.io/en/latest/). Antes de começar devemos instala utilizando o comando **pip install twython** no console. Se você já instalou a partir do arquivo `requirements.txt` não é mais necessário instalar. \n",
    "\n",
    "Com todos estes passos concluídos podemos executar a primeira parte deste minicurso."
   ]
  },
  {
   "cell_type": "markdown",
   "metadata": {},
   "source": [
    "O primiero passo é importar as bibliotecas necessárias. No nosso caso, iremos importar a biblioteca do Twython e uma biblioteca para trabalhar com data e hora."
   ]
  },
  {
   "cell_type": "code",
   "execution_count": 2,
   "metadata": {},
   "outputs": [],
   "source": [
    "from twython import Twython\n",
    "from datetime import datetime"
   ]
  },
  {
   "cell_type": "markdown",
   "metadata": {},
   "source": [
    "Em seguida devemos informar as chaves necessárias da API do twitter. Estas chaves foram geradas no momento da criação da app no site listado anteriormente. Substitua o `None` com as chaves geradas na sua conta."
   ]
  },
  {
   "cell_type": "code",
   "execution_count": null,
   "metadata": {},
   "outputs": [],
   "source": [
    "#Definição das chaves da API do Twitter\n",
    "consumer_key = \"X9UmaOtHrK21fagwkStL6dDvc\" # Get Keys and Access Token at apps.twitter.com\n",
    "consumer_secret = \"xpNpF0anFepl5cRhN1YqYc4H66jDN2rdRiB2YXkgh9NYbX8DpH\" # Get Keys and Access Token at apps.twitter.com\n",
    "access_token = \"736392442384154624-blYbsB4awwSezrNUH7L5jTG6JPglJy3\" # Get Keys and Access Token at apps.twitter.com\n",
    "access_token_secret = \"bvPr7Y8BQeyN46UKZtDJPyP0Bx4Y8IuDRDVYxsc3LNAlb\" # Get Keys and Access Token at apps.twitter.com"
   ]
  },
  {
   "cell_type": "markdown",
   "metadata": {},
   "source": [
    "Em seguida, vamos criar uma instância da api Twython para que possamos utilizar os métodos de busca."
   ]
  },
  {
   "cell_type": "code",
   "execution_count": null,
   "metadata": {},
   "outputs": [],
   "source": [
    "tw = Twython(consumer_key, consumer_secret, access_token, access_token_secret)"
   ]
  },
  {
   "cell_type": "markdown",
   "metadata": {},
   "source": [
    "O primeiro método que iremos utilizar para coletar as informações é o `search`. Ele permite coletar uma quantidade específica de tweets a partir de uma query de busca. Essa query pode ser uma #hashtag ou uma palavra qualquer.\n",
    "\n",
    "Detalhes sobre os parâmetros e os valores de retorno do método `search` podem ser encontrados na página da API do twitter: https://dev.twitter.com/rest/reference/get/search/tweets. Nesse exemplo inicial vamos utilizar apenas três parâmetros: \n",
    "\n",
    "* **q:** query de busca\n",
    "* **count:** o número de tweets que serão retornados\n",
    "* **lang:** o idioma dos tweets retornados\n",
    "\n",
    "`Para facilitar a visualização foi coletado apenas 1 twitter. Modifique o valor para coletar mais`"
   ]
  },
  {
   "cell_type": "code",
   "execution_count": null,
   "metadata": {},
   "outputs": [],
   "source": [
    "result = tw.search(q=\"brasil\",count=1,lang=\"pt\")"
   ]
  },
  {
   "cell_type": "code",
   "execution_count": null,
   "metadata": {},
   "outputs": [],
   "source": [
    "#Isso irá imprimir no console o resultado armazenado na variável result\n",
    "print(result)"
   ]
  },
  {
   "cell_type": "markdown",
   "metadata": {},
   "source": [
    "A variável **result** irá armazenar os `n` últimos tweets postados que possuem a palavra **brasil** no texto e que estão em português. Sendo `n` o valor passado no parâmetro `count`. Mais detalhes dos parâmetros que podem ser utilizados com o método *search* podem ser encontrados na documentação para desenvolvedores twitter: https://dev.twitter.com/rest/reference/get/search/tweets.\n",
    "\n",
    "A **query** de busca utiliza os mesmos critérios de busca do twitter. Podemos buscar por hashtag ou ainda pela combinação de várias palavras. Uma lista dos comandos que podem ser passados pela query pode ser encontrada neste link: https://dev.twitter.com/rest/public/search.\n",
    "\n",
    "Segue alguns exemplos:"
   ]
  },
  {
   "cell_type": "code",
   "execution_count": null,
   "metadata": {},
   "outputs": [],
   "source": [
    "result_hashtag = tw.search(q=\"#MasterChefBR\", count=5, lang=\"pt\")\n",
    "result_multi = tw.search(q=\"#MasterChefBR OR #MasterChef\", count=100, lang=\"pt\")"
   ]
  },
  {
   "cell_type": "markdown",
   "metadata": {},
   "source": [
    "Nos exemplos a seguir vamos trabalhar com a variável`result_hashtag` que armazenou 5 tweets com a `hashtag` `#MasterChefBR`. \n",
    "\n",
    "A busca retorna um dicionário com dois campos:\n",
    "\n",
    "* **search_metadata:** metadados da busca\n",
    "* **statuses:** os tweets que foram coletados\n",
    "\n",
    "Podemos imprimir tais informações utilizando os comandos a seguir:\n"
   ]
  },
  {
   "cell_type": "code",
   "execution_count": null,
   "metadata": {
    "scrolled": true
   },
   "outputs": [],
   "source": [
    "print(result_hashtag['search_metadata'])"
   ]
  },
  {
   "cell_type": "code",
   "execution_count": null,
   "metadata": {},
   "outputs": [],
   "source": [
    "print(result_hashtag['statuses'])"
   ]
  },
  {
   "cell_type": "markdown",
   "metadata": {},
   "source": [
    "O nosso foco nessa primiera parte é ver os dados associados a cada twitter retornado pela busca. Por conta disso, vamos trabalhar com o **statuses**. O *statuses* é uma lista de tweets. No entanto, a busca retorna toda a estrutura relacionada ao tweet e não somente o texto. A lista completa do que a busca retorna pode ser encontrada na documentação do twitter já linkada anteriormente.\n",
    "\n",
    "Vamos exibir o texto dos tweets coletados:"
   ]
  },
  {
   "cell_type": "code",
   "execution_count": null,
   "metadata": {
    "scrolled": true
   },
   "outputs": [],
   "source": [
    "tweets = result_hashtag['statuses']\n",
    "\n",
    "for tweet in tweets:\n",
    "    print(tweet['id'])\n",
    "    print(tweet['text'])"
   ]
  },
  {
   "cell_type": "markdown",
   "metadata": {},
   "source": [
    "Cade tweet possui um *id* que o identifica unicamente. Essa informação é útil caso não queira coletar tweets repetidos. No entanto, RT são considerados tweets distintos. \n",
    "\n",
    "A busca também retorna informações sobre o usuário que postou tal tweet. O campo *user* retorna uma instância de usuário do tweet conforme documentação disponível em: https://dev.twitter.com/overview/api/users. Como exemplo vamos utilizar o primeir tweet coletado na busca anterior. "
   ]
  },
  {
   "cell_type": "code",
   "execution_count": null,
   "metadata": {
    "scrolled": true
   },
   "outputs": [],
   "source": [
    "first_tweet = tweets[0]\n",
    "\n",
    "user_ = first_tweet['user']\n",
    "\n",
    "print(user_)"
   ]
  },
  {
   "cell_type": "markdown",
   "metadata": {},
   "source": [
    "Selecionando alguns campos, temos:"
   ]
  },
  {
   "cell_type": "code",
   "execution_count": null,
   "metadata": {
    "scrolled": false
   },
   "outputs": [],
   "source": [
    "print(user_['id']) #id do usuário\n",
    "print(user_['name']) #nome do usuário\n",
    "print(user_['screen_name']) #username do usuário\n",
    "print(user_['description']) #descrição do perfil\n",
    "print(user_['profile_image_url']) #url da imagem do perfil"
   ]
  },
  {
   "cell_type": "markdown",
   "metadata": {},
   "source": [
    "É possível coletar também a timeline de um determinado usuário:"
   ]
  },
  {
   "cell_type": "code",
   "execution_count": null,
   "metadata": {
    "scrolled": true
   },
   "outputs": [],
   "source": [
    "tw_timeline = tw.get_user_timeline(screen_name=\"@adolfoguimaraes\")\n",
    "\n",
    "for tweet in tw_timeline:\n",
    "    print(tweet['text'])"
   ]
  },
  {
   "cell_type": "markdown",
   "metadata": {},
   "source": [
    "Observe que neste caso da timeline, a API só retorna a lista de tweets.\n",
    "\n",
    "A API permite também coletar informações cadastradas no perfil do usuário. O método `show_user` retorna uma instância de usuário o do twitter. "
   ]
  },
  {
   "cell_type": "code",
   "execution_count": null,
   "metadata": {
    "scrolled": true
   },
   "outputs": [],
   "source": [
    "tw_user = tw.show_user(screen_name=\"@adolfoguimaraes\")\n",
    "\n",
    "print(tw_user['id']) #id do usuário\n",
    "print(tw_user['name']) #nome do usuário\n",
    "print(tw_user['screen_name']) #username do usuário\n",
    "print(tw_user['description']) #descrição do perfil\n",
    "print(tw_user['profile_image_url']) #url da imagem do perfil"
   ]
  },
  {
   "cell_type": "markdown",
   "metadata": {},
   "source": [
    "A lista completa dos métodos do Twython pode ser encontrada na documentação da API disponível em: https://twython.readthedocs.io/en/latest/index.html\n",
    "\n",
    "Com esses passos básicos já é possível coletar informações de textos do twitter e dos usuários que postam o conteúdo. Explore a documentação do Twitter e do Twython para criar outros exemplos. Na segunda parte, vamos explorar mais algumas funcionalidades interessantes da API."
   ]
  }
 ],
 "metadata": {
  "kernelspec": {
   "display_name": "Python 3",
   "language": "python",
   "name": "python3"
  },
  "language_info": {
   "codemirror_mode": {
    "name": "ipython",
    "version": 3
   },
   "file_extension": ".py",
   "mimetype": "text/x-python",
   "name": "python",
   "nbconvert_exporter": "python",
   "pygments_lexer": "ipython3",
   "version": "3.7.0"
  }
 },
 "nbformat": 4,
 "nbformat_minor": 2
}
